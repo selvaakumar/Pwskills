{
  "cells": [
    {
      "cell_type": "markdown",
      "id": "b5e83044-9984-421c-b822-9d549996af0d",
      "metadata": {
        "id": "b5e83044-9984-421c-b822-9d549996af0d"
      },
      "source": [
        "1. Write a program to reverse a string."
      ]
    },
    {
      "cell_type": "code",
      "execution_count": null,
      "id": "58611f0a-bffa-41cc-8d5c-41cc6c263795",
      "metadata": {
        "id": "58611f0a-bffa-41cc-8d5c-41cc6c263795",
        "outputId": "b755785b-409f-4108-c280-be6c4916df67"
      },
      "outputs": [
        {
          "name": "stdin",
          "output_type": "stream",
          "text": [
            "Enter the string value stark\n"
          ]
        },
        {
          "name": "stdout",
          "output_type": "stream",
          "text": [
            "krats\n"
          ]
        }
      ],
      "source": [
        "s=input(\"Enter the string value\")\n",
        "print(s[::-1])"
      ]
    },
    {
      "cell_type": "code",
      "execution_count": null,
      "id": "372843c8-d5e9-4417-9600-cf873dcfe1f3",
      "metadata": {
        "id": "372843c8-d5e9-4417-9600-cf873dcfe1f3",
        "outputId": "154b8144-3ad1-4dc6-ad8d-4d76154fb9cb"
      },
      "outputs": [
        {
          "name": "stdin",
          "output_type": "stream",
          "text": [
            "Enter the string value name\n"
          ]
        },
        {
          "name": "stdout",
          "output_type": "stream",
          "text": [
            "Entered value is not pallindrome\n"
          ]
        }
      ],
      "source": [
        "#2. Check if a string is a palindrome.\n",
        "s=input(\"Enter the string value\")\n",
        "s1 = s[::-1]\n",
        "if s==s1:\n",
        "    print(\"Entered value is pallindrome\")\n",
        "else:\n",
        "     print(\"Entered value is not pallindrome\")\n",
        ""
      ]
    },
    {
      "cell_type": "code",
      "execution_count": null,
      "id": "a397f72d-ebd5-47a1-8f07-c99547614d9b",
      "metadata": {
        "id": "a397f72d-ebd5-47a1-8f07-c99547614d9b",
        "outputId": "daaa569a-14b7-4b57-c747-178d15c7b70b"
      },
      "outputs": [
        {
          "name": "stdin",
          "output_type": "stream",
          "text": [
            "Enter the string value narmatha\n"
          ]
        },
        {
          "data": {
            "text/plain": [
              "'NARMATHA'"
            ]
          },
          "execution_count": 10,
          "metadata": {},
          "output_type": "execute_result"
        }
      ],
      "source": [
        "#3. Convert a string to uppercase.\n",
        "s = input(\"Enter the string value\")\n",
        "s.upper()"
      ]
    },
    {
      "cell_type": "code",
      "execution_count": null,
      "id": "2a1ec33a-797d-4f45-bf15-589c15775f72",
      "metadata": {
        "id": "2a1ec33a-797d-4f45-bf15-589c15775f72",
        "outputId": "335b71f1-28a5-4bc8-8a03-d36bb2d003cb"
      },
      "outputs": [
        {
          "name": "stdin",
          "output_type": "stream",
          "text": [
            "Enter the string value TESLA\n"
          ]
        },
        {
          "data": {
            "text/plain": [
              "'tesla'"
            ]
          },
          "execution_count": 11,
          "metadata": {},
          "output_type": "execute_result"
        }
      ],
      "source": [
        "#4. Convert a string to lowercase.\n",
        "s = input(\"Enter the string value\")\n",
        "s.lower()"
      ]
    },
    {
      "cell_type": "code",
      "execution_count": null,
      "id": "c2ca72e0-9c7e-483c-ae5c-20e06cc801fc",
      "metadata": {
        "id": "c2ca72e0-9c7e-483c-ae5c-20e06cc801fc",
        "outputId": "19ed517d-a19e-4fbf-b61c-2f68cc5f6781"
      },
      "outputs": [
        {
          "name": "stdin",
          "output_type": "stream",
          "text": [
            "Enter the string value madam\n"
          ]
        },
        {
          "name": "stdout",
          "output_type": "stream",
          "text": [
            "No of vowles : 2\n"
          ]
        }
      ],
      "source": [
        "#5. Count the number of vowels in a string.\n",
        "s = input(\"Enter the string value\")\n",
        "a = 'aeiouAEIOU'\n",
        "count=sum(s.count(i) for i in a)\n",
        "print(f\"No of vowles : {count}\")\n"
      ]
    },
    {
      "cell_type": "code",
      "execution_count": null,
      "id": "d0979bbb-e947-4103-8ced-2b791dbb928b",
      "metadata": {
        "id": "d0979bbb-e947-4103-8ced-2b791dbb928b",
        "outputId": "2f627ea1-c3e4-4574-c218-94a64af4451e"
      },
      "outputs": [
        {
          "name": "stdout",
          "output_type": "stream",
          "text": [
            "Number of consonants: 7\n"
          ]
        }
      ],
      "source": [
        "#6. Count the number of consonants in a string.\n",
        "def count_consonants(input_string):\n",
        "    # Define a list of consonants\n",
        "    consonants = \"bcdfghjklmnpqrstvwxyzBCDFGHJKLMNPQRSTVWXYZ\"\n",
        "\n",
        "\n",
        "    count = 0\n",
        "\n",
        "    # Iterate through each character in the input string\n",
        "    for char in input_string:\n",
        "        # Check if the character is a consonant\n",
        "        if char in consonants:\n",
        "            count += 1\n",
        "\n",
        "    return count\n",
        "\n",
        "\n",
        "input_string = \"Hello, World!\"\n",
        "consonant_count = count_consonants(input_string)\n",
        "print(\"Number of consonants:\", consonant_count)\n"
      ]
    },
    {
      "cell_type": "code",
      "execution_count": null,
      "id": "843638f4-6618-4619-8835-605fa2bd5947",
      "metadata": {
        "id": "843638f4-6618-4619-8835-605fa2bd5947",
        "outputId": "c0e68a11-4080-4fa0-d836-b68dd05e7d9b"
      },
      "outputs": [
        {
          "name": "stdin",
          "output_type": "stream",
          "text": [
            "Enter the string value N M A E\n"
          ]
        },
        {
          "name": "stdout",
          "output_type": "stream",
          "text": [
            "Wiht out space :  NMAE\n"
          ]
        }
      ],
      "source": [
        "#7. Remove all whitespaces from a string.\n",
        "s = input(\"Enter the string value\")\n",
        "d= s.replace(' ','')\n",
        "print(\"Wiht out space : \", d)"
      ]
    },
    {
      "cell_type": "code",
      "execution_count": null,
      "id": "77b6edd2-e3af-42a3-aa27-1d3e7a4fd651",
      "metadata": {
        "id": "77b6edd2-e3af-42a3-aa27-1d3e7a4fd651",
        "outputId": "ddd2e5fb-d014-4dc2-b572-6c5d13ce3e1e"
      },
      "outputs": [
        {
          "name": "stdin",
          "output_type": "stream",
          "text": [
            "Enter the string value name\n"
          ]
        },
        {
          "name": "stdout",
          "output_type": "stream",
          "text": [
            "Length of string : 4\n"
          ]
        }
      ],
      "source": [
        "#8. Find the length of a string without using the `len()` function.\n",
        "s = input(\"Enter the string value\")\n",
        "count=0\n",
        "for a in s:\n",
        "    count=count+1\n",
        "\n",
        "print(\"Length of string :\",count)"
      ]
    },
    {
      "cell_type": "code",
      "execution_count": null,
      "id": "63f6e146-a0f3-468e-b4cc-e93a1fbc269b",
      "metadata": {
        "id": "63f6e146-a0f3-468e-b4cc-e93a1fbc269b",
        "outputId": "fdd91cd6-af40-421a-ceb0-c7be36265f8e"
      },
      "outputs": [
        {
          "name": "stdin",
          "output_type": "stream",
          "text": [
            "Enter the string value hoW\n"
          ]
        },
        {
          "name": "stdout",
          "output_type": "stream",
          "text": [
            "it contains word.\n"
          ]
        }
      ],
      "source": [
        "#9. Check if a string contains a specific word.\n",
        "sw = \" Hello how are you\"\n",
        "s = input(\"Enter the string value\")\n",
        "s=s.lower()\n",
        "if s in sw.lower():\n",
        "    print(\"it contains word.\")\n",
        "else:\n",
        "    print(\"it does not contain word.\")"
      ]
    },
    {
      "cell_type": "code",
      "execution_count": null,
      "id": "45a590d2-4f2b-4c0c-9a07-5a04a6d16ab8",
      "metadata": {
        "id": "45a590d2-4f2b-4c0c-9a07-5a04a6d16ab8",
        "outputId": "cbacad84-d699-42c2-e624-1f1f30ae25a1"
      },
      "outputs": [
        {
          "data": {
            "text/plain": [
              "'how are me'"
            ]
          },
          "execution_count": 23,
          "metadata": {},
          "output_type": "execute_result"
        }
      ],
      "source": [
        "#10. Replace a word in a string with another word.\n",
        "s=\"how are you\"\n",
        "s= s.replace('you',\"me\")\n",
        "s"
      ]
    },
    {
      "cell_type": "code",
      "execution_count": null,
      "id": "b93bba4a-a395-4b58-ab40-d9eea21426e9",
      "metadata": {
        "id": "b93bba4a-a395-4b58-ab40-d9eea21426e9",
        "outputId": "7ea8ccd6-e551-417f-8e27-8ba8c67fc523"
      },
      "outputs": [
        {
          "data": {
            "text/plain": [
              "3"
            ]
          },
          "execution_count": 25,
          "metadata": {},
          "output_type": "execute_result"
        }
      ],
      "source": [
        "#11. Count the occurrences of a word in a string.\n",
        "input_string = \"This is a sample sentence. Sample is the sample word.\"\n",
        "target_word = \"sample\"\n",
        "occurrences = input_string.lower().count(target_word.lower())\n",
        "occurrences"
      ]
    },
    {
      "cell_type": "code",
      "execution_count": null,
      "id": "31f00401-4834-4ba5-86e6-c6d142a3fb07",
      "metadata": {
        "id": "31f00401-4834-4ba5-86e6-c6d142a3fb07",
        "outputId": "b174d234-a7e5-40bc-f9e7-e022a8fffba8"
      },
      "outputs": [
        {
          "data": {
            "text/plain": [
              "10"
            ]
          },
          "execution_count": 26,
          "metadata": {},
          "output_type": "execute_result"
        }
      ],
      "source": [
        "#12. Find the first occurrence of a word in a string.\n",
        "input_string = \"This is a sample sentence. Sample is the sample word.\"\n",
        "target_word = \"sample\"\n",
        "input_string = input_string.lower()\n",
        "target_word = target_word.lower()\n",
        "first_occurrence = input_string.find(target_word)\n",
        "first_occurrence"
      ]
    },
    {
      "cell_type": "code",
      "execution_count": null,
      "id": "3bfad651-aedf-4359-b2fc-6f34a36a3465",
      "metadata": {
        "id": "3bfad651-aedf-4359-b2fc-6f34a36a3465",
        "outputId": "a201c346-563d-4078-a034-4a84900bacc5"
      },
      "outputs": [
        {
          "data": {
            "text/plain": [
              "41"
            ]
          },
          "execution_count": 27,
          "metadata": {},
          "output_type": "execute_result"
        }
      ],
      "source": [
        "#13. Find the last occurrence of a word in a string.\n",
        "input_string = \"This is a sample sentence. Sample is the sample word.\"\n",
        "target_word = \"sample\"\n",
        "input_string = input_string.lower()\n",
        "target_word = target_word.lower()\n",
        "first_occurrence = input_string.rfind(target_word)\n",
        "first_occurrence"
      ]
    },
    {
      "cell_type": "code",
      "execution_count": null,
      "id": "b7b0774e-f947-46f9-a6f7-14fcd04a84d2",
      "metadata": {
        "id": "b7b0774e-f947-46f9-a6f7-14fcd04a84d2",
        "outputId": "5dab841b-6fea-4e20-ff64-410c8a0eb381"
      },
      "outputs": [
        {
          "data": {
            "text/plain": [
              "['This', 'is', 'a', 'sample', 'sentence']"
            ]
          },
          "execution_count": 29,
          "metadata": {},
          "output_type": "execute_result"
        }
      ],
      "source": [
        "#14. Split a string into a list of words.\n",
        "s= \"This is a sample sentence\"\n",
        "d = s.split()\n",
        "d"
      ]
    },
    {
      "cell_type": "code",
      "execution_count": null,
      "id": "a50a2eb1-edcf-4769-a808-f61359305289",
      "metadata": {
        "id": "a50a2eb1-edcf-4769-a808-f61359305289",
        "outputId": "1243c07e-2514-414a-9a43-e3cc7603cf05"
      },
      "outputs": [
        {
          "data": {
            "text/plain": [
              "'This is a list of words.'"
            ]
          },
          "execution_count": 33,
          "metadata": {},
          "output_type": "execute_result"
        }
      ],
      "source": [
        "#15. Join a list of words into a string.\n",
        "word_list = [\"This\", \"is\", \"a\", \"list\", \"of\", \"words.\"]\n",
        "\n",
        "joins = \" \".join(word_list)\n",
        "joins"
      ]
    },
    {
      "cell_type": "code",
      "execution_count": null,
      "id": "52014d90-053f-4598-b45b-7431e8dac6d7",
      "metadata": {
        "id": "52014d90-053f-4598-b45b-7431e8dac6d7",
        "outputId": "a5c7bf4c-842e-47da-bab6-a36d0eed8214"
      },
      "outputs": [
        {
          "data": {
            "text/plain": [
              "'This_is_a_string_with_spaces_between_words.'"
            ]
          },
          "execution_count": 34,
          "metadata": {},
          "output_type": "execute_result"
        }
      ],
      "source": [
        "#16. Convert a string where words are separated by spaces to one where words are separated by underscores.\n",
        "input_string = \"This is a string with spaces between words.\"\n",
        "converted_string  = input_string.replace(\" \",\"_\")\n",
        "converted_string"
      ]
    },
    {
      "cell_type": "code",
      "execution_count": null,
      "id": "978c1055-e351-458a-9998-ac8f026aefe6",
      "metadata": {
        "id": "978c1055-e351-458a-9998-ac8f026aefe6",
        "outputId": "f9e0fd2b-ca3c-4b2a-f972-0a9a31e4229c"
      },
      "outputs": [
        {
          "name": "stdout",
          "output_type": "stream",
          "text": [
            "The string starts with \"Hello\"\n"
          ]
        }
      ],
      "source": [
        "#17. Check if a string starts with a specific word or phrase.\n",
        "input_string = \"Hello, World!\"\n",
        "target_word = \"Hello\"\n",
        "if input_string.startswith(target_word):\n",
        "     print(f'The string starts with \"{target_word}\"')\n",
        "else:\n",
        "    print(f'The string not starts with \"{target_word}\"')\n",
        "\n",
        ""
      ]
    },
    {
      "cell_type": "code",
      "execution_count": null,
      "id": "bf729a57-0f83-47b4-97e2-7817a16e29e4",
      "metadata": {
        "id": "bf729a57-0f83-47b4-97e2-7817a16e29e4",
        "outputId": "00ad4bfe-c563-4387-935f-bf0d550aae89"
      },
      "outputs": [
        {
          "name": "stdout",
          "output_type": "stream",
          "text": [
            "The string not ends with \"Hello\"\n"
          ]
        }
      ],
      "source": [
        "#18. Check if a string ends with a specific word or phrase.\n",
        "input_string = \"Hello, World\"\n",
        "target_word = \"Hello\"\n",
        "if input_string.endswith(target_word):\n",
        "     print(f'The string ends with \"{target_word}\"')\n",
        "else:\n",
        "    print(f'The string not ends with \"{target_word}\"')"
      ]
    },
    {
      "cell_type": "code",
      "execution_count": null,
      "id": "49e07f79-d24a-4275-a1bb-7456a487ea8f",
      "metadata": {
        "id": "49e07f79-d24a-4275-a1bb-7456a487ea8f",
        "outputId": "07afa713-f2b0-4750-ae20-ccc79aee20d5"
      },
      "outputs": [
        {
          "data": {
            "text/plain": [
              "'Hello World'"
            ]
          },
          "execution_count": 37,
          "metadata": {},
          "output_type": "execute_result"
        }
      ],
      "source": [
        "#19. Convert a string to title case (e.g., \"hello world\" to \"Hello World\").\n",
        "title_word = \"hello world\"\n",
        "t= title_word.title()\n",
        "t"
      ]
    },
    {
      "cell_type": "code",
      "execution_count": null,
      "id": "c0b93a9a-1e59-4373-a7ea-3ffd3d955d2b",
      "metadata": {
        "id": "c0b93a9a-1e59-4373-a7ea-3ffd3d955d2b",
        "outputId": "5719c394-078d-4798-fcc6-1d12af26319d"
      },
      "outputs": [
        {
          "name": "stdout",
          "output_type": "stream",
          "text": [
            "Maximum length of the word is '7'  and the word is 'morning'\n"
          ]
        }
      ],
      "source": [
        "#20. Find the longest word in a string.\n",
        "s = 'Hi good morning friends'\n",
        "d= s.split()\n",
        "maxlength = 0\n",
        "maxword = ''\n",
        "for g in d:\n",
        "    if maxlength <len(g):\n",
        "        maxlength = len(g)\n",
        "        maxword = g\n",
        "\n",
        "\n",
        "print(f\"Maximum length of the word is '{maxlength}'  and the word is '{maxword}'\")"
      ]
    },
    {
      "cell_type": "code",
      "execution_count": null,
      "id": "8a531bb1-47bb-467e-bb17-b5f2206d8c2b",
      "metadata": {
        "id": "8a531bb1-47bb-467e-bb17-b5f2206d8c2b",
        "outputId": "eab667b0-0c29-461c-9715-b6f9189be603"
      },
      "outputs": [
        {
          "name": "stdout",
          "output_type": "stream",
          "text": [
            "shortest length of the word is '2'  and the word is 'Hi'\n"
          ]
        }
      ],
      "source": [
        "#21. Find the shortest word in a string.\n",
        "s = 'Hi good morning friends'\n",
        "d= s.split()\n",
        "maxlength = 100\n",
        "maxword = ''\n",
        "for g in d:\n",
        "    if maxlength > len(g):\n",
        "        maxlength = len(g)\n",
        "        maxword = g\n",
        "\n",
        "\n",
        "print(f\"shortest length of the word is '{maxlength}'  and the word is '{maxword}'\")"
      ]
    },
    {
      "cell_type": "code",
      "execution_count": null,
      "id": "8046c38e-e6a1-4163-8516-b05d009a5228",
      "metadata": {
        "id": "8046c38e-e6a1-4163-8516-b05d009a5228",
        "outputId": "c016b040-96f1-4fc5-998b-98e8dc4334c2"
      },
      "outputs": [
        {
          "name": "stdout",
          "output_type": "stream",
          "text": [
            "friends morning good Hi \n"
          ]
        }
      ],
      "source": [
        "#22. Reverse the order of words in a string.\n",
        "s = 'Hi good morning friends'\n",
        "d= s.split()\n",
        "f = ''\n",
        "for g in d:\n",
        "    f= g+' '+f\n",
        "\n",
        "print(f)"
      ]
    },
    {
      "cell_type": "code",
      "execution_count": null,
      "id": "b50b5e99-71c0-4841-b7fb-39f3e8e8c121",
      "metadata": {
        "id": "b50b5e99-71c0-4841-b7fb-39f3e8e8c121",
        "outputId": "8b462c52-b7d9-42af-c99a-8249d99b53bb"
      },
      "outputs": [
        {
          "name": "stdout",
          "output_type": "stream",
          "text": [
            "'Hello123' is alphanumeric: True\n"
          ]
        }
      ],
      "source": [
        "s = \"Hello123\"\n",
        "isalphanum = s.isalnum()\n",
        "print(f\"'{s}' is alphanumeric: {isalphanum}\")"
      ]
    },
    {
      "cell_type": "code",
      "execution_count": null,
      "id": "00f2c452-f19e-435e-ae48-2fabb1061e3a",
      "metadata": {
        "id": "00f2c452-f19e-435e-ae48-2fabb1061e3a",
        "outputId": "3c961369-4d5a-48b5-84d8-08618e5190ae"
      },
      "outputs": [
        {
          "name": "stdout",
          "output_type": "stream",
          "text": [
            "Extracted digits: 125\n"
          ]
        }
      ],
      "source": [
        "#24. Extract all digits from a string.\n",
        "\n",
        "input_string = \"Hello125r.\"\n",
        "extracted_digits = \"\"\n",
        "\n",
        "for char in input_string:\n",
        "    if char.isdigit():\n",
        "            extracted_digits += char\n",
        "\n",
        "print(\"Extracted digits:\", extracted_digits)"
      ]
    },
    {
      "cell_type": "code",
      "execution_count": null,
      "id": "d377e286-6eaf-4ced-977e-a4b48ae8de29",
      "metadata": {
        "id": "d377e286-6eaf-4ced-977e-a4b48ae8de29",
        "outputId": "83bb9c01-9098-4eb0-9c1a-e2e4720d8b5c"
      },
      "outputs": [
        {
          "name": "stdout",
          "output_type": "stream",
          "text": [
            "Extracted charcter: Hellor\n"
          ]
        }
      ],
      "source": [
        "input_string = \"Hello125r.\"\n",
        "extracted_digits = \"\"\n",
        "\n",
        "for char in input_string:\n",
        "    if char.isalpha():\n",
        "            extracted_digits += char\n",
        "\n",
        "print(\"Extracted charcter:\", extracted_digits)"
      ]
    },
    {
      "cell_type": "code",
      "execution_count": null,
      "id": "c4982fe9-951a-4301-b9db-9d6d34830e3c",
      "metadata": {
        "id": "c4982fe9-951a-4301-b9db-9d6d34830e3c",
        "outputId": "3e8d80c7-d5e7-41e1-e19c-fb246ab26339"
      },
      "outputs": [
        {
          "name": "stdout",
          "output_type": "stream",
          "text": [
            "Extracted upper: HD\n"
          ]
        }
      ],
      "source": [
        "#26. Count the number of uppercase letters in a string.\n",
        "input_string = \"Hello12D5r.\"\n",
        "extracted_digits = \"\"\n",
        "\n",
        "for char in input_string:\n",
        "    if char.isupper():\n",
        "            extracted_digits += char\n",
        "\n",
        "print(\"Extracted upper:\", extracted_digits)"
      ]
    },
    {
      "cell_type": "code",
      "execution_count": null,
      "id": "873e23ea-6874-4f9e-a1ae-66a2b0e87b0b",
      "metadata": {
        "id": "873e23ea-6874-4f9e-a1ae-66a2b0e87b0b",
        "outputId": "c40b4f92-621c-4b59-af93-cf92a6483da8"
      },
      "outputs": [
        {
          "name": "stdout",
          "output_type": "stream",
          "text": [
            "Extracted lower: ellor\n"
          ]
        }
      ],
      "source": [
        "#27. Count the number of lowercase letters in a string.\n",
        "input_string = \"Hello12D5r.\"\n",
        "extracted_digits = \"\"\n",
        "\n",
        "for char in input_string:\n",
        "    if char.islower():\n",
        "            extracted_digits += char\n",
        "\n",
        "print(\"Extracted lower:\", extracted_digits)"
      ]
    },
    {
      "cell_type": "code",
      "execution_count": null,
      "id": "8994ea50-c137-4ebb-845d-8408961bad52",
      "metadata": {
        "id": "8994ea50-c137-4ebb-845d-8408961bad52",
        "outputId": "7c91efa2-fd1d-4a28-9687-c40c1e226fed"
      },
      "outputs": [
        {
          "data": {
            "text/plain": [
              "'hELLO, wORLD!'"
            ]
          },
          "execution_count": 62,
          "metadata": {},
          "output_type": "execute_result"
        }
      ],
      "source": [
        "#28. Swap the case of each character in a string.\n",
        "\n",
        "input_string = \"Hello, World!\"\n",
        "swap = input_string.swapcase()\n",
        "swap"
      ]
    },
    {
      "cell_type": "code",
      "execution_count": null,
      "id": "87b28a78-bfa2-4836-9e7d-fa58c7079c1f",
      "metadata": {
        "id": "87b28a78-bfa2-4836-9e7d-fa58c7079c1f",
        "outputId": "35c87fb5-1dbc-4f43-c93e-8d897a86000a"
      },
      "outputs": [
        {
          "data": {
            "text/plain": [
              "'Hello, how are you'"
            ]
          },
          "execution_count": 64,
          "metadata": {},
          "output_type": "execute_result"
        }
      ],
      "source": [
        "#29. Remove a specific word from a string.\n",
        "input_string = \"Hello, how are you dear\"\n",
        "word = input_string.replace('dear','')\n",
        "word.strip()"
      ]
    },
    {
      "cell_type": "code",
      "execution_count": null,
      "id": "7adb2612-ad07-40e9-9f1f-79ceabc45a54",
      "metadata": {
        "id": "7adb2612-ad07-40e9-9f1f-79ceabc45a54",
        "outputId": "22485218-727c-4205-8a51-100e1910f9ef"
      },
      "outputs": [
        {
          "name": "stdout",
          "output_type": "stream",
          "text": [
            "'nagaraj234@gmail.com' is a valid email address\n"
          ]
        }
      ],
      "source": [
        "#30. Check if a string is a valid email address.\n",
        "import re\n",
        "pattern = r'^[a-zA-Z0-9._%+-]+@[a-zA-Z0-9.-]+\\.[a-zA-Z]{2,}$'\n",
        "email = 'nagaraj234@gmail.com'\n",
        "if re.match(pattern, email):\n",
        "    print(f\"'{email}' is a valid email address\")\n",
        ""
      ]
    },
    {
      "cell_type": "code",
      "execution_count": null,
      "id": "da4cd360-4cd1-4d38-af15-9df29d33e087",
      "metadata": {
        "id": "da4cd360-4cd1-4d38-af15-9df29d33e087",
        "outputId": "3c191da0-b779-41bb-ef08-3d053efe4a79"
      },
      "outputs": [
        {
          "name": "stdout",
          "output_type": "stream",
          "text": [
            "Username is \"john\"\n"
          ]
        }
      ],
      "source": [
        "#31. Extract the username from an email address string.\n",
        "email_address = \"john@gmail.com\"\n",
        "r = email_address.split('@')\n",
        "\n",
        "print(f'Username is \"{r[0]}\"')"
      ]
    },
    {
      "cell_type": "code",
      "execution_count": null,
      "id": "de1f8879-c9a6-4a8d-999d-709ebcdeaae5",
      "metadata": {
        "id": "de1f8879-c9a6-4a8d-999d-709ebcdeaae5",
        "outputId": "c97680d5-783b-44f9-a445-35618241f271"
      },
      "outputs": [
        {
          "name": "stdout",
          "output_type": "stream",
          "text": [
            "Domain is \"gmail.com\"\n"
          ]
        }
      ],
      "source": [
        "#32. Extract the domain name from an email address string.\n",
        "email_address = \"john@gmail.com\"\n",
        "r = email_address.split('@')\n",
        "\n",
        "print(f'Domain is \"{r[1]}\"')"
      ]
    },
    {
      "cell_type": "code",
      "execution_count": null,
      "id": "8e57be86-af23-494d-8667-b54a4e20695d",
      "metadata": {
        "id": "8e57be86-af23-494d-8667-b54a4e20695d",
        "outputId": "6b6d2c2a-b6b9-4158-ea31-62d0a907531f"
      },
      "outputs": [
        {
          "data": {
            "text/plain": [
              "'This is my world'"
            ]
          },
          "execution_count": 77,
          "metadata": {},
          "output_type": "execute_result"
        }
      ],
      "source": [
        "#33. Replace multiple spaces in a string with a single space.\n",
        "s =\" This        is     my world\"\n",
        "space = ' '.join(s.split())\n",
        "space.strip()"
      ]
    },
    {
      "cell_type": "code",
      "execution_count": null,
      "id": "966f99f6-531e-4168-821e-b3f944d0d998",
      "metadata": {
        "id": "966f99f6-531e-4168-821e-b3f944d0d998",
        "outputId": "474c180c-c404-4261-a553-505899a134c6"
      },
      "outputs": [
        {
          "name": "stdout",
          "output_type": "stream",
          "text": [
            "This valid url  http://www.pwskills.com/\n"
          ]
        }
      ],
      "source": [
        "#34. Check if a string is a valid URL.\n",
        "\n",
        "url = 'http://www.pwskills.com/'\n",
        "validate = 'https://'\n",
        "validate1 = 'http://'\n",
        "if validate in url:\n",
        "    print(f\"This valid url  {url}\")\n",
        "elif validate1 in url:\n",
        "    print(f\"This valid url  {url}\")\n",
        "\n",
        "\n"
      ]
    },
    {
      "cell_type": "code",
      "execution_count": null,
      "id": "9fbc381b-06b4-404e-a540-c83f177b902f",
      "metadata": {
        "id": "9fbc381b-06b4-404e-a540-c83f177b902f",
        "outputId": "de6ed3f9-4f5b-498b-edc7-01884b42be6c"
      },
      "outputs": [
        {
          "data": {
            "text/plain": [
              "'https'"
            ]
          },
          "execution_count": 86,
          "metadata": {},
          "output_type": "execute_result"
        }
      ],
      "source": [
        "#35. Extract the protocol (http or https) from a URL string.\n",
        "url = 'https://www.pwskills.com/'\n",
        "url.split(':')[0]"
      ]
    },
    {
      "cell_type": "code",
      "execution_count": null,
      "id": "c34b60f9-0972-4179-80c4-4cfba6937145",
      "metadata": {
        "id": "c34b60f9-0972-4179-80c4-4cfba6937145",
        "outputId": "db089442-3079-48bf-d27f-a5f7e562b733"
      },
      "outputs": [
        {
          "name": "stdout",
          "output_type": "stream",
          "text": [
            "'h': 1\n",
            "'e': 1\n",
            "'l': 3\n",
            "'o': 2\n",
            "' ': 1\n",
            "'w': 1\n",
            "'r': 1\n",
            "'d': 1\n"
          ]
        }
      ],
      "source": [
        "#36. Find the frequency of each character in a string.\n",
        "input_string = \"hello world\"\n",
        "character = {}\n",
        "\n",
        "for char in input_string:\n",
        "    character[char] = character.get(char,0)+1\n",
        "\n",
        "for char, count in character.items():\n",
        "    print(f\"'{char}': {count}\")"
      ]
    },
    {
      "cell_type": "code",
      "execution_count": null,
      "id": "15fb24a6-871b-4453-a287-98ae939d3ce7",
      "metadata": {
        "id": "15fb24a6-871b-4453-a287-98ae939d3ce7",
        "outputId": "2ff0c642-9ec9-41a8-dc20-60dbb6720aff"
      },
      "outputs": [
        {
          "name": "stdout",
          "output_type": "stream",
          "text": [
            "removed punctuation : \"Hello world\"\n"
          ]
        }
      ],
      "source": [
        "#37. Remove all punctuation from a string.\n",
        "punc = '''!()-[]{};:'\"\\,<>./?@#$%^&*_~'''\n",
        "s='Hello! world.'\n",
        "\n",
        "for g in s:\n",
        "    if g in punc:\n",
        "        s = s.replace(g,'')\n",
        "\n",
        "print(f'removed punctuation : \"{s}\"')"
      ]
    },
    {
      "cell_type": "code",
      "execution_count": null,
      "id": "83b46c63-c81a-41aa-ad74-2c292cd08dee",
      "metadata": {
        "id": "83b46c63-c81a-41aa-ad74-2c292cd08dee",
        "outputId": "809c64fd-b2c0-4f28-d9bb-1a3096bf8630"
      },
      "outputs": [
        {
          "name": "stdout",
          "output_type": "stream",
          "text": [
            "It is not only contain numeric 'hello126'\n",
            "IT is only numeric '1564165151'\n"
          ]
        }
      ],
      "source": [
        "#38. Check if a string contains only digits.\n",
        "s = 'hello126'\n",
        "n = '1564165151'\n",
        "def contan_digit(inputs):\n",
        "    if inputs.isnumeric():\n",
        "        return print(f\"IT is only numeric '{inputs}'\")\n",
        "    else:\n",
        "        return print(f\"It is not only contain numeric '{inputs}'\")\n",
        "\n",
        "contan_digit(s)\n",
        "contan_digit(n)"
      ]
    },
    {
      "cell_type": "code",
      "execution_count": null,
      "id": "e158a6f0-daf0-45c2-91e5-c3970c7b7f6a",
      "metadata": {
        "id": "e158a6f0-daf0-45c2-91e5-c3970c7b7f6a",
        "outputId": "d0964b2c-f5f7-46b7-84a5-d66090d3ad81"
      },
      "outputs": [
        {
          "name": "stdout",
          "output_type": "stream",
          "text": [
            "It is not only contain alphabets 'hello126'\n",
            "IT is only alphabets 'name'\n"
          ]
        }
      ],
      "source": [
        "#39. Check if a string contains only alphabets.\n",
        "s = 'hello126'\n",
        "n = 'name'\n",
        "def contan_digit(inputs):\n",
        "    if inputs.isalpha():\n",
        "        return print(f\"IT is only alphabets '{inputs}'\")\n",
        "    else:\n",
        "        return print(f\"It is not only contain alphabets '{inputs}'\")\n",
        "\n",
        "contan_digit(s)\n",
        "contan_digit(n)"
      ]
    },
    {
      "cell_type": "code",
      "execution_count": null,
      "id": "5ad25e9f-174c-466c-807a-65b9b0560c76",
      "metadata": {
        "id": "5ad25e9f-174c-466c-807a-65b9b0560c76",
        "outputId": "13d08687-eb5e-4e1f-d7ab-011673f9921b"
      },
      "outputs": [
        {
          "data": {
            "text/plain": [
              "['h', 'e', 'l', 'l', 'o']"
            ]
          },
          "execution_count": 103,
          "metadata": {},
          "output_type": "execute_result"
        }
      ],
      "source": [
        "#40. Convert a string to a list of characters.\n",
        "\n",
        "s = 'hello'\n",
        "char_list = [char for char in s]\n",
        "char_list"
      ]
    },
    {
      "cell_type": "code",
      "execution_count": null,
      "id": "30e89609-43de-4bc9-aa58-2ce3cf164347",
      "metadata": {
        "id": "30e89609-43de-4bc9-aa58-2ce3cf164347",
        "outputId": "dbe4a505-94d1-4fa2-d879-9647d5d952bb"
      },
      "outputs": [
        {
          "name": "stdout",
          "output_type": "stream",
          "text": [
            "'listen' and 'silent' are anagrams.\n"
          ]
        }
      ],
      "source": [
        "#41. Check if two strings are anagrams.\n",
        "\n",
        "string1 = \"listen\"\n",
        "string2 = \"silent\"\n",
        "if sorted(string1.lower()) == sorted(string2.lower()):\n",
        "     print(f\"'{string1}' and '{string2}' are anagrams.\")\n",
        "else:\n",
        "    print(f\"'{string1}' and '{string2}' are not anagrams.\")\n",
        ""
      ]
    },
    {
      "cell_type": "code",
      "execution_count": null,
      "id": "a49bf423-5a92-4744-b462-9db459d8b1b2",
      "metadata": {
        "id": "a49bf423-5a92-4744-b462-9db459d8b1b2",
        "outputId": "4e5791e1-ef2f-4e4c-b1eb-ecc72e630996"
      },
      "outputs": [
        {
          "name": "stdout",
          "output_type": "stream",
          "text": [
            "Encoded text: Khoor, Zruog!\n"
          ]
        }
      ],
      "source": [
        "#42. Encode a string using a Caesar cipher.\n",
        "encrypted_text = \"\"\n",
        "input_string = \"Hello, World!\"\n",
        "shift_value = 3\n",
        "\n",
        "for char in input_string:\n",
        "    if char.isalpha():\n",
        "        is_upper = char.isupper()\n",
        "        char_code = ord(char.lower())\n",
        "        shifted_code = (char_code - ord('a') + shift_value) % 26 + ord('a')\n",
        "        shifted_char = chr(shifted_code)\n",
        "        if is_upper:\n",
        "                shifted_char = shifted_char.upper()\n",
        "        encrypted_text += shifted_char\n",
        "    else:\n",
        "        encrypted_text += char\n",
        "\n",
        "print(\"Encoded text:\", encrypted_text)"
      ]
    },
    {
      "cell_type": "code",
      "execution_count": null,
      "id": "9a914a50-612d-48b5-89d1-f542ca9c598f",
      "metadata": {
        "id": "9a914a50-612d-48b5-89d1-f542ca9c598f",
        "outputId": "365584f9-b6fd-4335-fa59-270ae88a20ba"
      },
      "outputs": [
        {
          "name": "stdout",
          "output_type": "stream",
          "text": [
            "decrypted text: Hello, World!\n"
          ]
        }
      ],
      "source": [
        "#43. Decode a Caesar cipher encoded string.\n",
        "decrypted_text = \"\"\n",
        "input_string = \"Khoor, Zruog!\"\n",
        "shift_value = 3\n",
        "\n",
        "for char in input_string:\n",
        "    if char.isalpha():\n",
        "        is_upper = char.isupper()\n",
        "        char_code = ord(char.lower())\n",
        "        shifted_code = (char_code - ord('a') - shift_value) % 26 + ord('a')\n",
        "        shifted_char = chr(shifted_code)\n",
        "        if is_upper:\n",
        "                shifted_char = shifted_char.upper()\n",
        "        decrypted_text += shifted_char\n",
        "    else:\n",
        "        decrypted_text += char\n",
        "\n",
        "print(\"decrypted text:\", decrypted_text)"
      ]
    },
    {
      "cell_type": "code",
      "execution_count": null,
      "id": "dfe386b9-b277-4a02-ba8c-cb9a38e9b94f",
      "metadata": {
        "id": "dfe386b9-b277-4a02-ba8c-cb9a38e9b94f",
        "outputId": "16b11bf3-4dce-40da-ae75-ac48eb0e1fb6"
      },
      "outputs": [
        {
          "name": "stdout",
          "output_type": "stream",
          "text": [
            "Most frequent word in string is 'L'\n"
          ]
        }
      ],
      "source": [
        "#44. Find the most frequent word in a string.\n",
        "input_string = \"hello world\"\n",
        "character = {}\n",
        "\n",
        "for char in input_string:\n",
        "    character[char] = character.get(char,0)+1\n",
        "\n",
        "\n",
        "fr= max(character,key=character.get)\n",
        "print(f\"Most frequent word in string is '{fr.upper()}'\")"
      ]
    },
    {
      "cell_type": "code",
      "execution_count": null,
      "id": "dcc66f54-68d0-4fbf-8d3a-a72b39c1bd3e",
      "metadata": {
        "id": "dcc66f54-68d0-4fbf-8d3a-a72b39c1bd3e",
        "outputId": "e487e2f9-47a7-4749-c568-b35ea735a099"
      },
      "outputs": [
        {
          "name": "stdout",
          "output_type": "stream",
          "text": [
            "Unique words: {'sample', 'is', 'string.', 'It', 'word', 'but', 'frequently!', 'the', 'most', 'appears', 'This', 'words,', \"'sample'\", 'a', 'contains'}\n"
          ]
        }
      ],
      "source": [
        "\n",
        "#45. Find all unique words in a string.\n",
        "s = \"This is a sample string. It contains sample words, but the word 'sample' appears most frequently!\"\n",
        "\n",
        "words = s.split()\n",
        "unique_word_set = set(words)\n",
        "print(\"Unique words:\", unique_word_set)"
      ]
    },
    {
      "cell_type": "code",
      "execution_count": null,
      "id": "ddfd59f5-2693-4a05-b20a-52f20104bc71",
      "metadata": {
        "id": "ddfd59f5-2693-4a05-b20a-52f20104bc71",
        "outputId": "ce0d3d04-3666-4e7d-93fc-7bdabb3f6e06"
      },
      "outputs": [
        {
          "name": "stdout",
          "output_type": "stream",
          "text": [
            "The word 'syllables' has 2 syllables.\n"
          ]
        }
      ],
      "source": [
        "#46. Count the number of syllables in a string.\n",
        "\n",
        "\n",
        "word = \"syllables\"\n",
        "\n",
        "word = word.lower()\n",
        "vowels = \"aeiou\"\n",
        "# Initialize a count of syllables\n",
        "syllable_count = 0\n",
        "# Flag to indicate if the previous character was a vowel\n",
        "prev_char_vowel = False\n",
        "# Iterate through each character in the word\n",
        "for char in word:\n",
        "    if char in vowels:\n",
        "        # If the current character is a vowel and the previous character\n",
        "        # was not a vowel, increment the syllable count\n",
        "        if not prev_char_vowel:\n",
        "            syllable_count += 1\n",
        "        prev_char_vowel = True\n",
        "    else:\n",
        "        prev_char_vowel = False\n",
        "\n",
        "# Adjust the count for some special cases\n",
        "if word.endswith(\"e\"):\n",
        "    syllable_count -= 1\n",
        "if word.endswith(\"le\") and len(word) > 2 and word[-3] not in vowels:\n",
        "    syllable_count += 1\n",
        "\n",
        "# Ensure that the count is at least 1 for valid words\n",
        "syllable_count = max(syllable_count, 1)\n",
        "\n",
        "\n",
        "\n",
        "print(f\"The word '{word}' has {syllable_count} syllables.\")\n",
        "\n",
        "\n"
      ]
    },
    {
      "cell_type": "code",
      "execution_count": null,
      "id": "b7e95b21-a58e-404e-9aa3-281faa970457",
      "metadata": {
        "id": "b7e95b21-a58e-404e-9aa3-281faa970457",
        "outputId": "acc55c2f-b573-4221-ce71-ac495aa981dd"
      },
      "outputs": [
        {
          "name": "stdout",
          "output_type": "stream",
          "text": [
            "It contain special charcter 'hello!'\n"
          ]
        }
      ],
      "source": [
        "#47. Check if a string contains any special characters.\n",
        "s = 'hello!'\n",
        "h = False\n",
        "for g in s:\n",
        "    if g.isalpha():\n",
        "        None\n",
        "    elif g.isnumeric():\n",
        "        None\n",
        "    elif g.isalnum():\n",
        "        None\n",
        "    else:\n",
        "        h = True\n",
        "if(h==True):\n",
        "    print(f\"It contain special charcter '{s}'\")\n",
        "else:\n",
        "    print(f\"It does not contain special charcter '{s}'\")"
      ]
    },
    {
      "cell_type": "code",
      "execution_count": null,
      "id": "8fc772d7-87de-4f58-8ce9-287b0fa0b9b2",
      "metadata": {
        "id": "8fc772d7-87de-4f58-8ce9-287b0fa0b9b2",
        "outputId": "c506c745-70e5-4e67-926d-663595b1deab"
      },
      "outputs": [
        {
          "name": "stdout",
          "output_type": "stream",
          "text": [
            "String after removing the 6-th word:\n",
            "This is an example sentence remove the third word.\n"
          ]
        }
      ],
      "source": [
        "#48. Remove the nth word from a string.\n",
        "\n",
        "s = \"This is an example sentence to remove the third word.\"\n",
        "words = s.split()\n",
        "\n",
        "n= 5\n",
        "\n",
        "if n>0 & n<len(words):\n",
        "    words.pop(n)\n",
        "    updated_string = ' '.join(words)\n",
        "print(\"String after removing the {}-th word:\".format(n + 1))\n",
        "print(updated_string)"
      ]
    },
    {
      "cell_type": "code",
      "execution_count": null,
      "id": "195e5632-f650-412f-86c6-44dd9350dfaf",
      "metadata": {
        "id": "195e5632-f650-412f-86c6-44dd9350dfaf",
        "outputId": "4662ba4e-acb0-4221-db30-87121d66a672"
      },
      "outputs": [
        {
          "name": "stdout",
          "output_type": "stream",
          "text": [
            "String after removing the 6-th word:\n",
            "This is an example sentence hello to remove the third word.\n"
          ]
        }
      ],
      "source": [
        "#49. Insert a word at the nth position in a string.\n",
        "\n",
        "s = \"This is an example sentence to remove the third word.\"\n",
        "words = s.split()\n",
        "word_to_insert = 'hello'\n",
        "n= 5\n",
        "\n",
        "if n>0 & n<len(words):\n",
        "    words.insert(n,word_to_insert)\n",
        "    updated_string = ' '.join(words)\n",
        "print(\"String after removing the {}-th word:\".format(n + 1))\n",
        "print(updated_string)"
      ]
    },
    {
      "cell_type": "code",
      "execution_count": null,
      "id": "f29ac467-f60b-47e4-bb50-d5a650f6c77f",
      "metadata": {
        "id": "f29ac467-f60b-47e4-bb50-d5a650f6c77f",
        "outputId": "55561883-7a2f-4ade-970f-1130d42ce3c3"
      },
      "outputs": [
        {
          "name": "stdout",
          "output_type": "stream",
          "text": [
            "[['Name', 'Age', 'Location'], ['Alice', '25', 'New York'], ['Bob', '30', 'Los Angeles'], ['Charlie', '22', 'Chicago']]\n"
          ]
        }
      ],
      "source": [
        "#50. Convert a CSV string to a list of lists.\n",
        "csv_string = \"Name,Age,Location\\nAlice,25,New York\\nBob,30,Los Angeles\\nCharlie,22,Chicago\"\n",
        "lines = csv_string.split('\\n')\n",
        "result = []\n",
        "\n",
        "for line in lines:\n",
        "    if line:\n",
        "        fields = line.split(',')\n",
        "        result.append(fields)\n",
        "print(result)"
      ]
    },
    {
      "cell_type": "markdown",
      "id": "eca95364-e05a-415d-8819-925066d4916b",
      "metadata": {
        "id": "eca95364-e05a-415d-8819-925066d4916b"
      },
      "source": [
        "List Based Practice Problem :\n"
      ]
    },
    {
      "cell_type": "code",
      "execution_count": null,
      "id": "34358109-6fd5-4c74-bfa2-618134b7ee8a",
      "metadata": {
        "id": "34358109-6fd5-4c74-bfa2-618134b7ee8a",
        "outputId": "c153ce77-3a4c-4a10-b6a8-0863c9a5dceb"
      },
      "outputs": [
        {
          "name": "stdout",
          "output_type": "stream",
          "text": [
            "[1, 2, 3, 4, 5, 6, 7, 8, 9, 10]\n"
          ]
        }
      ],
      "source": [
        "#1. Create a list with integers from 1 to 10.\n",
        "li = list(range(1,11))\n",
        "print(li)"
      ]
    },
    {
      "cell_type": "code",
      "execution_count": null,
      "id": "0f8c68b4-b789-49c2-853b-0f2ec2c5f1ba",
      "metadata": {
        "id": "0f8c68b4-b789-49c2-853b-0f2ec2c5f1ba",
        "outputId": "40c6d57b-3fb7-4625-8b3c-857034b8b4fb"
      },
      "outputs": [
        {
          "name": "stdout",
          "output_type": "stream",
          "text": [
            "Length of list: 10\n"
          ]
        }
      ],
      "source": [
        "#2. Find the length of a list without using the `len()` function.\n",
        "li = list(range(1,11))\n",
        "count = 0\n",
        "for i in li:\n",
        "    count = count +1\n",
        "\n",
        "print(f\"Length of list: {count}\")\n"
      ]
    },
    {
      "cell_type": "code",
      "execution_count": null,
      "id": "c4ae23c8-ddd1-45bd-85f3-712a24826671",
      "metadata": {
        "id": "c4ae23c8-ddd1-45bd-85f3-712a24826671",
        "outputId": "c4d53c5f-ae37-43a0-d7df-628e25a04a80"
      },
      "outputs": [
        {
          "name": "stdout",
          "output_type": "stream",
          "text": [
            "[1, 2, 3, 4, 5, 6, 7, 8, 9, 10, 12]\n"
          ]
        }
      ],
      "source": [
        "#3. Append an element to the end of a list.\n",
        "li = list(range(1,11))\n",
        "li.append(12)\n",
        "print(li)"
      ]
    },
    {
      "cell_type": "code",
      "execution_count": null,
      "id": "adc0e893-6b94-4483-b3f1-3e89c8c590b2",
      "metadata": {
        "id": "adc0e893-6b94-4483-b3f1-3e89c8c590b2",
        "outputId": "582476e1-14b0-4af5-e905-cd54a43cb490"
      },
      "outputs": [
        {
          "name": "stdout",
          "output_type": "stream",
          "text": [
            "[1, 2, 56, 4, 5, 6, 7, 8, 9, 10]\n"
          ]
        }
      ],
      "source": [
        "#4. Insert an element at a specific index in a list.\n",
        "li = list(range(1,11))\n",
        "li[2] = 56\n",
        "print(li)"
      ]
    },
    {
      "cell_type": "code",
      "execution_count": null,
      "id": "6295af2f-0f3e-435f-9eed-a8dd6ff4bd17",
      "metadata": {
        "id": "6295af2f-0f3e-435f-9eed-a8dd6ff4bd17",
        "outputId": "d910127a-0cb9-456d-e7ba-2771d77aaeae"
      },
      "outputs": [
        {
          "name": "stdout",
          "output_type": "stream",
          "text": [
            "[1, 2, 3, 4, 5, 6, 7, 9, 10]\n"
          ]
        }
      ],
      "source": [
        "#5. Remove an element from a list by its value.\n",
        "li = list(range(1,11))\n",
        "li.remove(8)\n",
        "print(li)"
      ]
    },
    {
      "cell_type": "code",
      "execution_count": null,
      "id": "21381dbe-c7ef-4dfe-a265-c6e25f12f3cb",
      "metadata": {
        "id": "21381dbe-c7ef-4dfe-a265-c6e25f12f3cb",
        "outputId": "c1c8527a-064d-446e-dec4-10b0397aca60"
      },
      "outputs": [
        {
          "name": "stdout",
          "output_type": "stream",
          "text": [
            "[1, 2, 4, 5, 6, 7, 8, 9, 10]\n"
          ]
        }
      ],
      "source": [
        "#6. Remove an element from a list by its index.\n",
        "li = list(range(1,11))\n",
        "li.pop(2)\n",
        "\n",
        "print(li)"
      ]
    },
    {
      "cell_type": "code",
      "execution_count": null,
      "id": "c86f52e6-02f5-42c8-9034-0e67c9e51092",
      "metadata": {
        "id": "c86f52e6-02f5-42c8-9034-0e67c9e51092",
        "outputId": "a13bbb0c-83ee-4ffb-e596-26e2850fbd03"
      },
      "outputs": [
        {
          "name": "stdout",
          "output_type": "stream",
          "text": [
            "3 exists in the list.\n"
          ]
        }
      ],
      "source": [
        "#7. Check if an element exists in a list.\n",
        "li = list(range(1,11))\n",
        "element_to_check = 3\n",
        "\n",
        "if element_to_check in li:\n",
        "    print(f\"{element_to_check} exists in the list.\")\n",
        "else:\n",
        "    print(f\"{element_to_check} does not exist in the list.\")\n"
      ]
    },
    {
      "cell_type": "code",
      "execution_count": null,
      "id": "97df9482-1b4d-430d-82b8-f3ae3fbb3512",
      "metadata": {
        "id": "97df9482-1b4d-430d-82b8-f3ae3fbb3512",
        "outputId": "a07e08d7-2715-4ebe-dc16-ae33f7fd5e5e"
      },
      "outputs": [
        {
          "name": "stdout",
          "output_type": "stream",
          "text": [
            "index of 3 : 2\n"
          ]
        }
      ],
      "source": [
        "#8. Find the index of the first occurrence of an element in a list.\n",
        "li = list(range(1,11))\n",
        "element_to_check = 3\n",
        "\n",
        "inde = li.index(element_to_check)\n",
        "\n",
        "print(f\"index of {element_to_check} : {inde}\")\n",
        "\n",
        "\n"
      ]
    },
    {
      "cell_type": "code",
      "execution_count": null,
      "id": "14821d37-4c47-43cb-a05d-fdcc416c5964",
      "metadata": {
        "id": "14821d37-4c47-43cb-a05d-fdcc416c5964",
        "outputId": "843b83ef-de46-46b6-cc0b-162cda3e2759"
      },
      "outputs": [
        {
          "name": "stdout",
          "output_type": "stream",
          "text": [
            "count of 2 : 4\n"
          ]
        }
      ],
      "source": [
        "#9. Count the occurrences of an element in a list.\n",
        "li = [5,25,36,2,2,2,2,3]\n",
        "search = 2\n",
        "v= li.count(search)\n",
        "\n",
        "print(f\"count of {search} : {v}\")"
      ]
    },
    {
      "cell_type": "code",
      "execution_count": null,
      "id": "c385ddd4-ef78-48ba-a2cb-c958a3d014c7",
      "metadata": {
        "id": "c385ddd4-ef78-48ba-a2cb-c958a3d014c7",
        "outputId": "a7278a6b-2d00-4e9b-dfd0-2f2b89a18001"
      },
      "outputs": [
        {
          "name": "stdout",
          "output_type": "stream",
          "text": [
            "[3, 2, 2, 2, 2, 36, 25, 5]\n"
          ]
        }
      ],
      "source": [
        "#10. Reverse the order of elements in a list.\n",
        "li = [5,25,36,2,2,2,2,3]\n",
        "\n",
        "print(li[::-1])"
      ]
    },
    {
      "cell_type": "code",
      "execution_count": null,
      "id": "b748b27d-2191-413e-a3ae-e318f1431334",
      "metadata": {
        "id": "b748b27d-2191-413e-a3ae-e318f1431334",
        "outputId": "b8826d88-4026-421c-b857-673bf819560e"
      },
      "outputs": [
        {
          "name": "stdout",
          "output_type": "stream",
          "text": [
            "[2, 2, 2, 2, 3, 5, 25, 36]\n"
          ]
        }
      ],
      "source": [
        "#11. Sort a list in ascending order.\n",
        "li = [5,25,36,2,2,2,2,3]\n",
        "sr = sorted(li)\n",
        "print(sr)"
      ]
    },
    {
      "cell_type": "code",
      "execution_count": null,
      "id": "616a8ac3-2688-40e6-8a7d-dee0a833d5fd",
      "metadata": {
        "id": "616a8ac3-2688-40e6-8a7d-dee0a833d5fd",
        "outputId": "e42ec5da-bbc6-43e8-aa02-9748814ed43c"
      },
      "outputs": [
        {
          "name": "stdout",
          "output_type": "stream",
          "text": [
            "[36, 25, 5, 3, 2, 2, 2, 2]\n"
          ]
        }
      ],
      "source": [
        "#12. Sort a list in descending order.\n",
        "\n",
        "li = [5,25,36,2,2,2,2,3]\n",
        "sr = sorted(li,reverse = True)\n",
        "print(sr)"
      ]
    },
    {
      "cell_type": "code",
      "execution_count": null,
      "id": "c048c33f-2fd2-4e34-9256-43a6b7fa8bfc",
      "metadata": {
        "id": "c048c33f-2fd2-4e34-9256-43a6b7fa8bfc",
        "outputId": "1c71fb8d-5192-4564-b6ec-e4ad96d5d36d"
      },
      "outputs": [
        {
          "name": "stdout",
          "output_type": "stream",
          "text": [
            "[0, 2, 4, 6, 8, 10, 12, 14, 16, 18]\n"
          ]
        }
      ],
      "source": [
        "#13. Create a list of even numbers from 1 to 20.\n",
        "even_numbers = [x for x in range(1, 21) if x % 2 == 0]\n",
        "\n",
        "print(li)\n"
      ]
    },
    {
      "cell_type": "code",
      "execution_count": null,
      "id": "992bd753-e94d-46fc-a36b-d40a2c36da4a",
      "metadata": {
        "id": "992bd753-e94d-46fc-a36b-d40a2c36da4a",
        "outputId": "e7f81e52-0f49-4434-d6ba-7f8a26a5a415"
      },
      "outputs": [
        {
          "name": "stdout",
          "output_type": "stream",
          "text": [
            "[1, 3, 5, 7, 9, 11, 13, 15, 17, 19]\n"
          ]
        }
      ],
      "source": [
        "#14. Create a list of odd numbers from 1 to 20.\n",
        "odd_numbers = [x for x in range(1, 21) if x % 2 != 0]\n",
        "print(odd_numbers)"
      ]
    },
    {
      "cell_type": "code",
      "execution_count": null,
      "id": "8bea4883-cab4-469a-9db6-f365c78007d6",
      "metadata": {
        "id": "8bea4883-cab4-469a-9db6-f365c78007d6",
        "outputId": "79e9fd53-94e2-4863-9173-d8c53761e792"
      },
      "outputs": [
        {
          "name": "stdout",
          "output_type": "stream",
          "text": [
            "sum of list 77\n"
          ]
        }
      ],
      "source": [
        "#15. Find the sum of all elements in a list.\n",
        "\n",
        "li = [5,25,36,2,2,2,2,3]\n",
        "sum_list = sum(li)\n",
        "\n",
        "print(f\"sum of list {sum_list}\")\n"
      ]
    },
    {
      "cell_type": "code",
      "execution_count": null,
      "id": "b4df122e-dc87-4419-bae5-2a8dd4cd92c0",
      "metadata": {
        "id": "b4df122e-dc87-4419-bae5-2a8dd4cd92c0",
        "outputId": "58fa0d83-97a9-47a1-e567-8ac490867e4e"
      },
      "outputs": [
        {
          "name": "stdout",
          "output_type": "stream",
          "text": [
            "Maxvalue in list : 36\n"
          ]
        }
      ],
      "source": [
        "#16. Find the maximum value in a list.\n",
        "\n",
        "li = [5,25,36,2,2,2,2,3]\n",
        "max_value = 0\n",
        "\n",
        "for i in li:\n",
        "    if max_value <i:\n",
        "        max_value = i\n",
        "\n",
        "print(f\"Maxvalue in list : {max_value}\")\n"
      ]
    },
    {
      "cell_type": "code",
      "execution_count": null,
      "id": "99e07985-dc4e-4466-8e2e-049c996681f6",
      "metadata": {
        "id": "99e07985-dc4e-4466-8e2e-049c996681f6",
        "outputId": "e100a2f0-9142-4c52-a7fa-4f441f9245ed"
      },
      "outputs": [
        {
          "name": "stdout",
          "output_type": "stream",
          "text": [
            "Minvalue in list : 1\n"
          ]
        }
      ],
      "source": [
        "#17. Find the minimum value in a list.\n",
        "\n",
        "li = [5,25,36,2,2,2,2,1,3]\n",
        "max_value\n",
        "\n",
        "for i in li:\n",
        "    if max_value >i:\n",
        "        max_value = i\n",
        "\n",
        "print(f\"Minvalue in list : {max_value}\")"
      ]
    },
    {
      "cell_type": "code",
      "execution_count": null,
      "id": "ae5b5e93-5707-482e-8037-c463a33694c6",
      "metadata": {
        "id": "ae5b5e93-5707-482e-8037-c463a33694c6",
        "outputId": "04d354a8-bde6-4f33-9295-2895608034e2"
      },
      "outputs": [
        {
          "name": "stdout",
          "output_type": "stream",
          "text": [
            "[1, 4, 9, 16, 25, 36, 49, 64, 81, 100]\n"
          ]
        }
      ],
      "source": [
        "#18. Create a list of squares of numbers from 1 to 10.\n",
        "squares = [x ** 2 for x in range(1, 11)]\n",
        "print(squares)"
      ]
    },
    {
      "cell_type": "code",
      "execution_count": null,
      "id": "32de2afc-813e-4475-918c-8e2883bd3a7a",
      "metadata": {
        "id": "32de2afc-813e-4475-918c-8e2883bd3a7a",
        "outputId": "d69ce0c7-3d2c-4ed6-d580-2b9e34453d6a"
      },
      "outputs": [
        {
          "name": "stdout",
          "output_type": "stream",
          "text": [
            "[2, 55, 99, 20, 69, 61, 10, 37, 5, 72]\n"
          ]
        }
      ],
      "source": [
        "#19. Create a list of random numbers.\n",
        "\n",
        "import random\n",
        "random_numbers = [random.randint(1, 100) for _ in range(10)]\n",
        "\n",
        "print(random_numbers)"
      ]
    },
    {
      "cell_type": "code",
      "execution_count": null,
      "id": "69dcf272-5763-4377-810d-c121f2f009ab",
      "metadata": {
        "id": "69dcf272-5763-4377-810d-c121f2f009ab",
        "outputId": "6e46cbb5-f82b-4897-c4bf-b8d5216a8d32"
      },
      "outputs": [
        {
          "name": "stdout",
          "output_type": "stream",
          "text": [
            "List with out duplicate :  [2, 3, 36, 5, 25]\n"
          ]
        }
      ],
      "source": [
        "#20. Remove duplicates from a list.\n",
        "li = [5,25,36,2,2,2,2,3]\n",
        "\n",
        "li_withoutduplicate = list(set(li))\n",
        "\n",
        "print(f\"List with out duplicate :  {li_withoutduplicate}\")\n"
      ]
    },
    {
      "cell_type": "code",
      "execution_count": null,
      "id": "63b5e289-b185-4bc9-9454-a77cf2e7db7b",
      "metadata": {
        "id": "63b5e289-b185-4bc9-9454-a77cf2e7db7b",
        "outputId": "98df52d9-2de5-411d-c3fd-f5d01bb3a3f1"
      },
      "outputs": [
        {
          "name": "stdout",
          "output_type": "stream",
          "text": [
            "[9, 3, 5]\n"
          ]
        }
      ],
      "source": [
        "#21. Find the common elements between two lists.\n",
        "\n",
        "li1 = [2,3,6,5,3,9]\n",
        "li2 = [1,3,5,7,9,9,9,9,9,9]\n",
        "li3 = []\n",
        "for i in li1:\n",
        "    for j in li2:\n",
        "        if i == j:\n",
        "            li3.append(i)\n",
        "print(list(set(li3)))"
      ]
    },
    {
      "cell_type": "code",
      "execution_count": null,
      "id": "f53415a0-ac89-45aa-96a7-83a9604822e9",
      "metadata": {
        "id": "f53415a0-ac89-45aa-96a7-83a9604822e9",
        "outputId": "4bac5e23-4110-46bd-ebb9-5fa83d690ed4"
      },
      "outputs": [
        {
          "name": "stdout",
          "output_type": "stream",
          "text": [
            "Difference between list1 and list2: [1, 2]\n",
            "Difference between list2 and list1: [6, 7]\n"
          ]
        }
      ],
      "source": [
        "#22. Find the difference between two lists.\n",
        "\n",
        "list1 = [1, 2, 3, 4, 5]\n",
        "list2 = [3, 4, 5, 6, 7]\n",
        "\n",
        "# Convert the lists to sets\n",
        "set1 = set(list1)\n",
        "set2 = set(list2)\n",
        "\n",
        "# Find the difference between the sets\n",
        "difference1 = list(set1 - set2)\n",
        "difference2 = list(set2 - set1)\n",
        "\n",
        "print(\"Difference between list1 and list2:\", difference1)\n",
        "print(\"Difference between list2 and list1:\", difference2)"
      ]
    },
    {
      "cell_type": "code",
      "execution_count": null,
      "id": "9d27b46f-a2fb-4690-84e7-8066413ad2ab",
      "metadata": {
        "id": "9d27b46f-a2fb-4690-84e7-8066413ad2ab",
        "outputId": "2bcc13bf-cc13-46a4-f44f-3d7a705e7daa"
      },
      "outputs": [
        {
          "name": "stdout",
          "output_type": "stream",
          "text": [
            "[1, 2, 3, 4, 5, 3, 4, 5, 6, 7]\n"
          ]
        }
      ],
      "source": [
        "#23. Merge two lists.\n",
        "\n",
        "list1 = [1, 2, 3, 4, 5]\n",
        "list2 = [3, 4, 5, 6, 7]\n",
        "\n",
        "list3 = list1 + list2\n",
        "\n",
        "print(list3)"
      ]
    },
    {
      "cell_type": "code",
      "execution_count": null,
      "id": "0e79acda-24f8-4691-a7ac-908d113069df",
      "metadata": {
        "id": "0e79acda-24f8-4691-a7ac-908d113069df",
        "outputId": "9d301c14-ff31-447c-e47f-a002ab9d427d"
      },
      "outputs": [
        {
          "name": "stdout",
          "output_type": "stream",
          "text": [
            "[3, 2.0, 5, 3.0, 7]\n"
          ]
        }
      ],
      "source": [
        "#24. Multiply all elements in a list by 2.\n",
        "li = [3, 4, 5, 6, 7]\n",
        "li1 = []\n",
        "for i in li:\n",
        "    if i%2 == 0:\n",
        "        li1.append(i/2)\n",
        "    else:\n",
        "        li1.append(i)\n",
        "\n",
        "\n",
        "print(li1)"
      ]
    },
    {
      "cell_type": "code",
      "execution_count": null,
      "id": "f4850569-fa06-4a01-a73b-efba1f9a0a5d",
      "metadata": {
        "id": "f4850569-fa06-4a01-a73b-efba1f9a0a5d",
        "outputId": "53cc2b70-fd11-48e0-f4ad-34696e4c83e9"
      },
      "outputs": [
        {
          "name": "stdout",
          "output_type": "stream",
          "text": [
            "[4, 6]\n"
          ]
        }
      ],
      "source": [
        "#25. Filter out all even numbers from a list.\n",
        "\n",
        "li = [3, 4, 5, 6, 7]\n",
        "li1 = []\n",
        "for i in li:\n",
        "    if i%2 == 0:\n",
        "        li1.append(i)\n",
        "\n",
        "print(li1)"
      ]
    },
    {
      "cell_type": "code",
      "execution_count": null,
      "id": "fdd73c3e-80ca-45a4-b97d-8d93cdd96c1d",
      "metadata": {
        "id": "fdd73c3e-80ca-45a4-b97d-8d93cdd96c1d",
        "outputId": "fec3d8fa-d5a9-49b7-f353-f54243ae6ebb"
      },
      "outputs": [
        {
          "name": "stdout",
          "output_type": "stream",
          "text": [
            "[1, 2, 3, 4, 5]\n"
          ]
        }
      ],
      "source": [
        "#26. Convert a list of strings to a list of integers.\n",
        "string_list = [\"1\", \"2\", \"3\", \"4\", \"5\"]\n",
        "integer_list = [int(x) for x in string_list]\n",
        "print(integer_list)"
      ]
    },
    {
      "cell_type": "code",
      "execution_count": null,
      "id": "a0d82838-cad9-4469-ae09-242f5d7a8b43",
      "metadata": {
        "id": "a0d82838-cad9-4469-ae09-242f5d7a8b43",
        "outputId": "5f4eb603-a9ad-4b2e-aca8-69136edc8ea5"
      },
      "outputs": [
        {
          "name": "stdout",
          "output_type": "stream",
          "text": [
            "['1', '2', '3', '4', '5']\n"
          ]
        }
      ],
      "source": [
        "#27. Convert a list of integers to a list of strings.\n",
        "integer = [1, 2, 3, 4, 5]\n",
        "string_list = [str(x) for x in integer]\n",
        "print(string_list)"
      ]
    },
    {
      "cell_type": "code",
      "execution_count": null,
      "id": "561da137-4b06-4780-b908-ad7c5316446b",
      "metadata": {
        "id": "561da137-4b06-4780-b908-ad7c5316446b",
        "outputId": "0930c482-819b-4181-f5d0-ecd4576eee20"
      },
      "outputs": [
        {
          "name": "stdout",
          "output_type": "stream",
          "text": [
            "[7, 6, 5, 4, 3, 2, 1]\n"
          ]
        }
      ],
      "source": [
        "#28. Flatten a nested list.\n",
        "nested_list = [1, [2, 3], [4, [5, 6]], 7]\n",
        "\n",
        "flattened_list = []\n",
        "stack = list(nested_list)\n",
        "\n",
        "while stack:\n",
        "    current_item = stack.pop()\n",
        "    if isinstance(current_item, list):\n",
        "        stack.extend(current_item)\n",
        "    else:\n",
        "        flattened_list.append(current_item)\n",
        "\n",
        "print(flattened_list)"
      ]
    },
    {
      "cell_type": "code",
      "execution_count": null,
      "id": "a92ed5c3-8d12-4461-b636-536bfdf3f34b",
      "metadata": {
        "id": "a92ed5c3-8d12-4461-b636-536bfdf3f34b",
        "outputId": "7a970c2e-7849-4253-cc9d-ae738979f7e4"
      },
      "outputs": [
        {
          "name": "stdout",
          "output_type": "stream",
          "text": [
            "[0, 1, 1, 2, 3, 5, 8, 13, 21, 34, 55]\n"
          ]
        }
      ],
      "source": [
        "#29. Create a list of the first 10 Fibonacci numbers.\n",
        "\n",
        "listofFIb = list(i for i in range(0,11) )\n",
        "listt =[]\n",
        "for i in range(0,11):\n",
        "    if i<=1:\n",
        "        listt.append(i)\n",
        "    else:\n",
        "        listt.append(listt[i-1] + listt[i-2])\n",
        "\n",
        "\n",
        "print(listt)"
      ]
    },
    {
      "cell_type": "code",
      "execution_count": null,
      "id": "8cfca9d4-27de-493c-bb91-621469d84930",
      "metadata": {
        "id": "8cfca9d4-27de-493c-bb91-621469d84930",
        "outputId": "30c52b7f-92fc-47af-b297-73f4b41c99d0"
      },
      "outputs": [
        {
          "name": "stdout",
          "output_type": "stream",
          "text": [
            "List is Not sorted\n"
          ]
        }
      ],
      "source": [
        "#30. Check if a list is sorted.\n",
        "\n",
        "integer = [1, 2, 9, 4, 5]\n",
        "sorted_integer = sorted(integer)\n",
        "\n",
        "if integer == sorted_integer:\n",
        "    print(\"List is sorted\")\n",
        "else:\n",
        "    print(\"List is Not sorted\")"
      ]
    },
    {
      "cell_type": "code",
      "execution_count": null,
      "id": "8c1b4b82-785a-4196-b14c-c7eb7a613e9c",
      "metadata": {
        "id": "8c1b4b82-785a-4196-b14c-c7eb7a613e9c",
        "outputId": "f24bd329-b984-41c6-83be-8a67a2d6a035"
      },
      "outputs": [
        {
          "data": {
            "text/plain": [
              "[9, 4, 5, 1, 2]"
            ]
          },
          "execution_count": 18,
          "metadata": {},
          "output_type": "execute_result"
        }
      ],
      "source": [
        "#31. Rotate a list to the left by `n` positions.\n",
        "integer = [1, 2, 9, 4, 5]\n",
        "n=2\n",
        "\n",
        "#n = n % len(integer)\n",
        "integer = integer[n:] + integer[:n]\n",
        "integer\n",
        "\n"
      ]
    },
    {
      "cell_type": "code",
      "execution_count": null,
      "id": "758f58e2-7bd8-49cb-a904-611d39c524f5",
      "metadata": {
        "id": "758f58e2-7bd8-49cb-a904-611d39c524f5",
        "outputId": "c6fa6858-78c0-4bdf-e916-c763fe29a5ac"
      },
      "outputs": [
        {
          "data": {
            "text/plain": [
              "[4, 5, 1, 2, 9]"
            ]
          },
          "execution_count": 20,
          "metadata": {},
          "output_type": "execute_result"
        }
      ],
      "source": [
        "#32. Rotate a list to the right by `n` positions.\n",
        "integer = [1, 2, 9, 4, 5]\n",
        "n=2\n",
        "\n",
        "#n = n % len(integer)\n",
        "integer = integer[-n:] + integer[:-n]\n",
        "integer\n"
      ]
    },
    {
      "cell_type": "code",
      "execution_count": null,
      "id": "9ea90162-8518-449f-9878-29f1f49391a2",
      "metadata": {
        "id": "9ea90162-8518-449f-9878-29f1f49391a2",
        "outputId": "e5cbdbec-eb3c-44e6-cfe1-6ffe2b144ac4"
      },
      "outputs": [
        {
          "name": "stdout",
          "output_type": "stream",
          "text": [
            "[2, 3, 5, 7, 11, 13, 17, 19, 23, 29, 31, 37, 41, 43, 47]\n"
          ]
        }
      ],
      "source": [
        "#33. Create a list of prime numbers up to 50.\n",
        "def is_prime(number):\n",
        "    if number <= 1:\n",
        "        return False\n",
        "    if number <= 3:\n",
        "        return True\n",
        "    if number % 2 == 0 or number % 3 == 0:\n",
        "        return False\n",
        "    i = 5\n",
        "    while i * i <= number:\n",
        "        if number % i == 0 or number % (i + 2) == 0:\n",
        "            return False\n",
        "        i += 6\n",
        "    return True\n",
        "\n",
        "# Generate a list of prime numbers up to 50\n",
        "prime_numbers = [x for x in range(2, 51) if is_prime(x)]\n",
        "\n",
        "print(prime_numbers)"
      ]
    },
    {
      "cell_type": "code",
      "execution_count": null,
      "id": "dde6ae1b-3eb5-4c61-8071-9079ee0624ed",
      "metadata": {
        "id": "dde6ae1b-3eb5-4c61-8071-9079ee0624ed",
        "outputId": "ac645abb-d36d-458e-90e1-4cfcccf3314e"
      },
      "outputs": [
        {
          "name": "stdout",
          "output_type": "stream",
          "text": [
            "[[1, 2, 3], [4, 5, 6], [7, 8, 9], [10]]\n"
          ]
        }
      ],
      "source": [
        "#34. Split a list into chunks of size `n`.\n",
        "my_list = [1, 2, 3, 4, 5, 6, 7, 8, 9, 10]\n",
        "chunk_size = 3\n",
        "chunks = [my_list[i:i + chunk_size] for i in range(0, len(my_list), chunk_size)]\n",
        "print(chunks)"
      ]
    },
    {
      "cell_type": "code",
      "execution_count": null,
      "id": "be8eb6da-41e0-4a55-b88c-ef25a68bd1fe",
      "metadata": {
        "id": "be8eb6da-41e0-4a55-b88c-ef25a68bd1fe",
        "outputId": "49e1d096-d500-4f74-cc8a-e1c81d26ef68"
      },
      "outputs": [
        {
          "name": "stdout",
          "output_type": "stream",
          "text": [
            "Second largest in  list :  7\n",
            "Second largest in  list :  7\n"
          ]
        }
      ],
      "source": [
        "#35. Find the second largest number in a list.\n",
        "my_list = [1, 3, 5, 7, 2, 6, 4, 8]\n",
        "second_largest =0\n",
        "largest = 0\n",
        "for num in my_list:\n",
        "    if num > largest:\n",
        "        second_largest = largest\n",
        "        largest = num\n",
        "    elif num > second_largest and num != largest:\n",
        "        second_largest = num\n",
        "\n",
        "print(\"Second largest in  list : \",second_largest)\n",
        "\n",
        "#or\n",
        "sor = sorted(my_list)\n",
        "print(\"Second largest in  list : \",sor[-2])\n",
        "\n"
      ]
    },
    {
      "cell_type": "code",
      "execution_count": null,
      "id": "6358f0f6-f95b-4476-8a1a-394b86e0875e",
      "metadata": {
        "id": "6358f0f6-f95b-4476-8a1a-394b86e0875e",
        "outputId": "2527eeb9-f8fa-4f58-e770-3b7deda6737b"
      },
      "outputs": [
        {
          "name": "stdout",
          "output_type": "stream",
          "text": [
            "[1, 9, 25, 49, 4, 36, 16, 64]\n"
          ]
        }
      ],
      "source": [
        "#36. Replace every element in a list with its square.\n",
        "my_list = [1, 3, 5, 7, 2, 6, 4, 8]\n",
        "my_list = [i**2 for i in my_list]\n",
        "\n",
        "print(my_list)"
      ]
    },
    {
      "cell_type": "code",
      "execution_count": null,
      "id": "337bfefe-1c0b-438b-9005-1488b782e70c",
      "metadata": {
        "id": "337bfefe-1c0b-438b-9005-1488b782e70c",
        "outputId": "0f559f22-2057-46e3-9e14-e4821b59ecd3"
      },
      "outputs": [
        {
          "name": "stdout",
          "output_type": "stream",
          "text": [
            "{'apple': 0, 'banana': 1, 'cherry': 2, 'date': 3}\n"
          ]
        }
      ],
      "source": [
        "#37. Convert a list to a dictionary where list elements become keys and their indices become values.\n",
        "\n",
        "my_list = [\"apple\", \"banana\", \"cherry\", \"date\"]\n",
        "\n",
        "# Using a dictionary comprehension\n",
        "my_dict = {element: index for index, element in enumerate(my_list)}\n",
        "\n",
        "print(my_dict)"
      ]
    },
    {
      "cell_type": "code",
      "execution_count": null,
      "id": "7667e91e-ea95-40cf-b3cc-ff5c000d8a4c",
      "metadata": {
        "id": "7667e91e-ea95-40cf-b3cc-ff5c000d8a4c",
        "outputId": "a4dd1e96-315c-465f-8392-53ea5b2d8534"
      },
      "outputs": [
        {
          "name": "stdout",
          "output_type": "stream",
          "text": [
            "[5, 3, 1, 4, 2]\n"
          ]
        }
      ],
      "source": [
        "#38. Shuffle the elements of a list randomly.\n",
        "import random\n",
        "\n",
        "my_list = [1, 2, 3, 4, 5]\n",
        "\n",
        "# Shuffle the list in place\n",
        "random.shuffle(my_list)\n",
        "\n",
        "print(my_list)"
      ]
    },
    {
      "cell_type": "code",
      "execution_count": null,
      "id": "275c81b2-1b70-4571-9393-9051fc34ed00",
      "metadata": {
        "id": "275c81b2-1b70-4571-9393-9051fc34ed00",
        "outputId": "97b7a8a5-d9fd-43df-8b9b-f14641b3abe6"
      },
      "outputs": [
        {
          "name": "stdout",
          "output_type": "stream",
          "text": [
            "[1, 1, 2, 6, 24, 120, 720, 5040, 40320, 362880]\n"
          ]
        }
      ],
      "source": [
        "#39. Create a list of the first 10 factorial numbers.\n",
        "def factorial(n):\n",
        "    if n == 0:\n",
        "        return 1\n",
        "    else:\n",
        "        return n * factorial(n - 1)\n",
        "\n",
        "factorial_numbers = [factorial(n) for n in range(10)]\n",
        "\n",
        "print(factorial_numbers)"
      ]
    },
    {
      "cell_type": "code",
      "execution_count": null,
      "id": "258744bd-17e8-47d2-9665-fec72efe5896",
      "metadata": {
        "id": "258744bd-17e8-47d2-9665-fec72efe5896",
        "outputId": "4b4ac073-5b06-458f-d4f7-67c95aaf7d93"
      },
      "outputs": [
        {
          "name": "stdout",
          "output_type": "stream",
          "text": [
            "The two lists have at least one element in common.\n"
          ]
        }
      ],
      "source": [
        "#40. Check if two lists have at least one element in common.\n",
        "\n",
        "list1 = [1, 2, 3, 4, 5]\n",
        "list2 = [4, 5, 6, 7, 8]\n",
        "\n",
        "set1 = set(list1)\n",
        "set2 = set(list2)\n",
        "\n",
        "if len(set1.intersection(set2)) > 0:\n",
        "    print(\"The two lists have at least one element in common.\")\n",
        "else:\n",
        "    print(\"The two lists do not have any common elements.\")\n",
        ""
      ]
    },
    {
      "cell_type": "code",
      "execution_count": null,
      "id": "0a3b38ee-d721-49fb-b257-ce0e49a252cd",
      "metadata": {
        "id": "0a3b38ee-d721-49fb-b257-ce0e49a252cd",
        "outputId": "1b59c774-785c-4d72-ea3d-b19b128fb844"
      },
      "outputs": [
        {
          "data": {
            "text/plain": [
              "[]"
            ]
          },
          "execution_count": 3,
          "metadata": {},
          "output_type": "execute_result"
        }
      ],
      "source": [
        "#41. Remove all elements from a list.\n",
        "\n",
        "list1 = [1, 2, 3, 4, 5]\n",
        "\n",
        "list1.clear()\n",
        "list1"
      ]
    },
    {
      "cell_type": "code",
      "execution_count": null,
      "id": "700a6820-66ad-4a16-bd97-b83e649267f2",
      "metadata": {
        "id": "700a6820-66ad-4a16-bd97-b83e649267f2",
        "outputId": "c6570550-368f-4902-ebf3-b320e1535bd0"
      },
      "outputs": [
        {
          "data": {
            "text/plain": [
              "[1, 2, 0, 4, 5]"
            ]
          },
          "execution_count": 4,
          "metadata": {},
          "output_type": "execute_result"
        }
      ],
      "source": [
        "#42. Replace negative numbers in a list with 0.\n",
        "\n",
        "list1 = [1, 2, -3, 4, 5]\n",
        "\n",
        "for i in list1:\n",
        "    if i<0:\n",
        "        list1[i] = 0\n",
        "\n",
        "list1"
      ]
    },
    {
      "cell_type": "code",
      "execution_count": null,
      "id": "c4594a4f-4be8-4eb6-9d96-069bc59f71f3",
      "metadata": {
        "id": "c4594a4f-4be8-4eb6-9d96-069bc59f71f3",
        "outputId": "c932fd04-8971-45a5-da2a-347bdcdf12ea"
      },
      "outputs": [
        {
          "data": {
            "text/plain": [
              "['w', 'o', 'r', 'd', 's']"
            ]
          },
          "execution_count": 5,
          "metadata": {},
          "output_type": "execute_result"
        }
      ],
      "source": [
        "#43. Convert a string into a list of words.\n",
        "\n",
        "s =\"words\"\n",
        "\n",
        "l1 =[i for i in s]\n",
        "\n",
        "l1"
      ]
    },
    {
      "cell_type": "code",
      "execution_count": null,
      "id": "5ed7e722-b3af-4f7d-8a0c-abd0663ac392",
      "metadata": {
        "id": "5ed7e722-b3af-4f7d-8a0c-abd0663ac392",
        "outputId": "a1997d12-0a7f-456e-a3b7-6fc404ef0d3a"
      },
      "outputs": [
        {
          "data": {
            "text/plain": [
              "'words'"
            ]
          },
          "execution_count": 9,
          "metadata": {},
          "output_type": "execute_result"
        }
      ],
      "source": [
        "#44. Convert a list of words into a string.\n",
        "\n",
        "l1 = ['w', 'o', 'r', 'd', 's']\n",
        "s=''\n",
        "for i in l1:\n",
        "    s= s + i\n",
        "s"
      ]
    },
    {
      "cell_type": "code",
      "execution_count": null,
      "id": "3b601cd9-2cfe-4d95-a17e-ffaa90662525",
      "metadata": {
        "id": "3b601cd9-2cfe-4d95-a17e-ffaa90662525",
        "outputId": "79e5515f-59ef-45e2-bd7f-eaa1d254b0c3"
      },
      "outputs": [
        {
          "name": "stdout",
          "output_type": "stream",
          "text": [
            "[1, 2, 4, 8, 16, 32, 64, 128, 256, 512]\n"
          ]
        }
      ],
      "source": [
        "#45. Create a list of the first `n` powers of 2.\n",
        "n = 10  # Change this to the desired number of powers\n",
        "powers_of_2 = [2 ** i for i in range(n)]\n",
        "print(powers_of_2)\n"
      ]
    },
    {
      "cell_type": "code",
      "execution_count": null,
      "id": "07ae250e-0337-4859-a8ae-d60407f08e76",
      "metadata": {
        "id": "07ae250e-0337-4859-a8ae-d60407f08e76",
        "outputId": "f871a51c-b91f-4f32-b25a-4f0c845ddd3f"
      },
      "outputs": [
        {
          "name": "stdout",
          "output_type": "stream",
          "text": [
            "hello\n"
          ]
        }
      ],
      "source": [
        "#46. Find the longest string in a list of strings.\n",
        "\n",
        "l1 = ['hello','how','are','you']\n",
        "\n",
        "long_st_count= 0\n",
        "long_st = ''\n",
        "\n",
        "for i in l1:\n",
        "    if len(i) > long_st_count:\n",
        "        long_st_count = len(i)\n",
        "        long_st = i\n",
        "\n",
        "print(long_st)"
      ]
    },
    {
      "cell_type": "code",
      "execution_count": null,
      "id": "f7fffb98-598a-4d8b-9531-389ed5cf92ac",
      "metadata": {
        "id": "f7fffb98-598a-4d8b-9531-389ed5cf92ac",
        "outputId": "b3de75be-857e-4990-bce9-3089fa5bfac0"
      },
      "outputs": [
        {
          "name": "stdout",
          "output_type": "stream",
          "text": [
            "how\n"
          ]
        }
      ],
      "source": [
        "#47. Find the shortest string in a list of strings.\n",
        "l1 = ['hello','how','are','you']\n",
        "\n",
        "short_st_count= 100\n",
        "short_st = ''\n",
        "\n",
        "for i in l1:\n",
        "    if len(i) < short_st_count:\n",
        "        short_st_count = len(i)\n",
        "        short_st = i\n",
        "\n",
        "print(short_st)\n"
      ]
    },
    {
      "cell_type": "code",
      "execution_count": null,
      "id": "1bb3bd25-f1f5-4831-898b-22d606992e45",
      "metadata": {
        "id": "1bb3bd25-f1f5-4831-898b-22d606992e45",
        "outputId": "e8fd3632-e373-4fab-eb4d-f98061b23489"
      },
      "outputs": [
        {
          "name": "stdout",
          "output_type": "stream",
          "text": [
            "[1, 3, 6, 10, 15, 21, 28, 36, 45, 55]\n"
          ]
        }
      ],
      "source": [
        "#48. Create a list of the first `n` triangular numbers.\n",
        "n = 10  # Change this to the desired number of triangular numbers\n",
        "triangular_numbers = [sum(range(1, i + 1)) for i in range(1, n + 1)]\n",
        "print(triangular_numbers)"
      ]
    },
    {
      "cell_type": "code",
      "execution_count": null,
      "id": "8a912376-cf0c-4628-ae02-7d2acbf47e4b",
      "metadata": {
        "id": "8a912376-cf0c-4628-ae02-7d2acbf47e4b",
        "outputId": "d3d4cc24-135b-4d8f-afc8-21fd474135c8"
      },
      "outputs": [
        {
          "name": "stdout",
          "output_type": "stream",
          "text": [
            "The subsequence is present in the main list.\n"
          ]
        }
      ],
      "source": [
        "#49. Check if a list contains another list as a subsequence.\n",
        "main_list = [1, 2, 3, 4, 5, 6]\n",
        "subsequence = [2, 4, 6]\n",
        "\n",
        "subseq_len = len(subsequence)\n",
        "seq_len = len(main_list)\n",
        "subseq_index = 0\n",
        "seq_index = 0\n",
        "while subseq_index < subseq_len and seq_index < seq_len:\n",
        "        if subsequence[subseq_index] == main_list[seq_index]:\n",
        "            subseq_index += 1\n",
        "        seq_index += 1\n",
        "\n",
        "if subseq_index == subseq_len:\n",
        "     print(\"The subsequence is present in the main list.\")\n",
        "else:\n",
        "    print(\"The subsequence is not present in the main list.\")"
      ]
    },
    {
      "cell_type": "code",
      "execution_count": null,
      "id": "bd35c210-c086-46e2-8435-89ed9a09404b",
      "metadata": {
        "id": "bd35c210-c086-46e2-8435-89ed9a09404b",
        "outputId": "0580a2db-c8b7-410e-ddee-09299ea30503"
      },
      "outputs": [
        {
          "name": "stdout",
          "output_type": "stream",
          "text": [
            "[1, 4, 3, 2, 5]\n"
          ]
        }
      ],
      "source": [
        "#50. Swap two elements in a list by their indices.\n",
        "my_list = [1, 2, 3, 4, 5]\n",
        "index1 = 1\n",
        "index2 = 3\n",
        "\n",
        "if 0 <= index1 < len(my_list) and 0 <= index2 < len(my_list):\n",
        "    my_list[index1], my_list[index2] = my_list[index2], my_list[index1]\n",
        "\n",
        "print(my_list)"
      ]
    },
    {
      "cell_type": "code",
      "execution_count": null,
      "id": "fef02d90-9286-4f37-aa87-927a8471d1c6",
      "metadata": {
        "id": "fef02d90-9286-4f37-aa87-927a8471d1c6"
      },
      "outputs": [],
      "source": [
        "#Tuple Based Practice Problem :\n"
      ]
    },
    {
      "cell_type": "code",
      "execution_count": null,
      "id": "ec2ec34a-ba91-4ac3-a96d-c9223963522a",
      "metadata": {
        "id": "ec2ec34a-ba91-4ac3-a96d-c9223963522a",
        "outputId": "ecfa0875-b3b8-4548-a7aa-aea7a84d94a2"
      },
      "outputs": [
        {
          "name": "stdout",
          "output_type": "stream",
          "text": [
            "(1, 2, 3, 4, 5)\n"
          ]
        }
      ],
      "source": [
        "#1. Create a tuple with integers from 1 to 5.\n",
        "my_tuple = (1, 2, 3, 4, 5)\n",
        "print(my_tuple)"
      ]
    },
    {
      "cell_type": "code",
      "execution_count": null,
      "id": "4e65074b-2c07-4c53-9db0-e14a2010ea8e",
      "metadata": {
        "id": "4e65074b-2c07-4c53-9db0-e14a2010ea8e",
        "outputId": "0aa61829-3860-4d12-883d-70eb15835b0a"
      },
      "outputs": [
        {
          "name": "stdout",
          "output_type": "stream",
          "text": [
            "3\n"
          ]
        }
      ],
      "source": [
        "#2. Access the third element of a tuple.\n",
        "my_tuple = (1, 2, 3, 4, 5)\n",
        "\n",
        "print(my_tuple[2])"
      ]
    },
    {
      "cell_type": "code",
      "execution_count": null,
      "id": "e0090213-c6fd-4ad3-bf7a-f829fa5ddd1c",
      "metadata": {
        "id": "e0090213-c6fd-4ad3-bf7a-f829fa5ddd1c",
        "outputId": "5e533411-e46c-4710-fae1-1abd27c3d648"
      },
      "outputs": [
        {
          "name": "stdout",
          "output_type": "stream",
          "text": [
            "Length of tuple :  5\n"
          ]
        }
      ],
      "source": [
        "#3. Find the length of a tuple without using the `len()` function.\n",
        "my_tuple = (1, 2, 3, 4, 5)\n",
        "\n",
        "count = 0\n",
        "for _ in my_tuple:\n",
        "    count = count + 1\n",
        "\n",
        "print(\"Length of tuple : \",count)"
      ]
    },
    {
      "cell_type": "code",
      "execution_count": null,
      "id": "e8f5eaf3-370a-474c-a5e6-a63043420b99",
      "metadata": {
        "id": "e8f5eaf3-370a-474c-a5e6-a63043420b99",
        "outputId": "fa012075-1a11-451a-d602-addad3e470a8"
      },
      "outputs": [
        {
          "name": "stdout",
          "output_type": "stream",
          "text": [
            "The element 2 appears 4 times in the tuple.\n"
          ]
        }
      ],
      "source": [
        "#4. Count the occurrences of an element in a tuple.\n",
        "\n",
        "my_tuple = (1, 2, 2, 3, 4, 2, 5, 2)\n",
        "\n",
        "# Count the occurrences of the element 2\n",
        "count = my_tuple.count(2)\n",
        "\n",
        "print(\"The element 2 appears\", count, \"times in the tuple.\")"
      ]
    },
    {
      "cell_type": "code",
      "execution_count": null,
      "id": "17ad5763-aa30-45ff-b476-9079ad5c19f6",
      "metadata": {
        "id": "17ad5763-aa30-45ff-b476-9079ad5c19f6",
        "outputId": "f2b9046b-50c0-49a1-8e21-3a7f760a0d58"
      },
      "outputs": [
        {
          "data": {
            "text/plain": [
              "1"
            ]
          },
          "execution_count": 35,
          "metadata": {},
          "output_type": "execute_result"
        }
      ],
      "source": [
        "#5. Find the index of the first occurrence of an element in a tuple.\n",
        "my_tuple = (1, 2, 2, 3, 4, 2, 5, 2)\n",
        "\n",
        "index = my_tuple.index(2)\n",
        "index\n"
      ]
    },
    {
      "cell_type": "code",
      "execution_count": null,
      "id": "f51781e3-0e08-4904-a5b5-79ce7856602e",
      "metadata": {
        "id": "f51781e3-0e08-4904-a5b5-79ce7856602e",
        "outputId": "962a9cc1-0fae-459b-e5c6-3b64cf3a78c7"
      },
      "outputs": [
        {
          "name": "stdout",
          "output_type": "stream",
          "text": [
            "The element 10 does not exist in the tuple.\n"
          ]
        }
      ],
      "source": [
        "#6. Check if an element exists in a tuple.\n",
        "\n",
        "my_tuple = (1, 2, 2, 3, 4, 2, 5, 2)\n",
        "element_to_check = 10\n",
        "\n",
        "if element_to_check in my_tuple:\n",
        "    print(f\"The element {element_to_check} exists in the tuple.\")\n",
        "else:\n",
        "    print(f\"The element {element_to_check} does not exist in the tuple.\")"
      ]
    },
    {
      "cell_type": "code",
      "execution_count": null,
      "id": "4d4cf638-4a2c-4f48-9137-55740ed955ca",
      "metadata": {
        "id": "4d4cf638-4a2c-4f48-9137-55740ed955ca",
        "outputId": "fd0802fa-5442-433c-ff25-1650e56f7a9f"
      },
      "outputs": [
        {
          "data": {
            "text/plain": [
              "[1, 2, 2, 3, 4, 2, 5, 2]"
            ]
          },
          "execution_count": 38,
          "metadata": {},
          "output_type": "execute_result"
        }
      ],
      "source": [
        "#7. Convert a tuple to a list.\n",
        "my_tuple = (1, 2, 2, 3, 4, 2, 5, 2)\n",
        "\n",
        "l1 = list(my_tuple)\n",
        "l1\n"
      ]
    },
    {
      "cell_type": "code",
      "execution_count": null,
      "id": "74dd77b9-ab92-4644-bf82-d869afc2fd5c",
      "metadata": {
        "id": "74dd77b9-ab92-4644-bf82-d869afc2fd5c",
        "outputId": "04a2b1ed-f49a-4957-e778-576f6d21a6d0"
      },
      "outputs": [
        {
          "data": {
            "text/plain": [
              "(1, 2, 2, 3, 4, 2, 5, 2)"
            ]
          },
          "execution_count": 39,
          "metadata": {},
          "output_type": "execute_result"
        }
      ],
      "source": [
        "#8. Convert a list to a tuple.\n",
        "l1 = [1, 2, 2, 3, 4, 2, 5, 2]\n",
        "my_tuple = tuple(l1)\n",
        "\n",
        "my_tuple\n"
      ]
    },
    {
      "cell_type": "code",
      "execution_count": null,
      "id": "495ef6b8-382a-4a99-8b6e-bf2434410bf1",
      "metadata": {
        "id": "495ef6b8-382a-4a99-8b6e-bf2434410bf1",
        "outputId": "fa4977de-6768-44dd-9733-8fadc00b1d58"
      },
      "outputs": [
        {
          "name": "stdout",
          "output_type": "stream",
          "text": [
            "var1: 1\n",
            "var2: 2\n",
            "var3: 3\n"
          ]
        }
      ],
      "source": [
        "#9. Unpack the elements of a tuple into variables.\n",
        "\n",
        "my_tuple = (1, 2, 3)\n",
        "\n",
        "# Unpack the elements of the tuple into variables\n",
        "var1, var2, var3 = my_tuple\n",
        "\n",
        "print(\"var1:\", var1)\n",
        "print(\"var2:\", var2)\n",
        "print(\"var3:\", var3)"
      ]
    },
    {
      "cell_type": "code",
      "execution_count": null,
      "id": "17e8b66f-586b-48df-bef4-fae94deb2f81",
      "metadata": {
        "id": "17e8b66f-586b-48df-bef4-fae94deb2f81",
        "outputId": "209af1dc-c4ca-4aaa-b1b7-7bb5aee9f50e"
      },
      "outputs": [
        {
          "data": {
            "text/plain": [
              "(0, 2, 4, 6, 8)"
            ]
          },
          "execution_count": 41,
          "metadata": {},
          "output_type": "execute_result"
        }
      ],
      "source": [
        "#10. Create a tuple of even numbers from 1 to 10.\n",
        "\n",
        "tuples = tuple(i for i in range(0,10) if i%2 ==0)\n",
        "tuples"
      ]
    },
    {
      "cell_type": "code",
      "execution_count": null,
      "id": "71d8f6a2-9658-4fca-a638-0a95433da4d3",
      "metadata": {
        "id": "71d8f6a2-9658-4fca-a638-0a95433da4d3",
        "outputId": "a735cbf7-a6e3-4960-d75c-d985ba8b3b18"
      },
      "outputs": [
        {
          "data": {
            "text/plain": [
              "(1, 3, 5, 7, 9)"
            ]
          },
          "execution_count": 42,
          "metadata": {},
          "output_type": "execute_result"
        }
      ],
      "source": [
        "#11. Create a tuple of odd numbers from 1 to 10.\n",
        "tuples = tuple(i for i in range(0,10) if i%2 !=0)\n",
        "tuples"
      ]
    },
    {
      "cell_type": "code",
      "execution_count": null,
      "id": "47d9bc64-5658-4c79-829f-07c307eff70b",
      "metadata": {
        "id": "47d9bc64-5658-4c79-829f-07c307eff70b",
        "outputId": "84ebd466-fb46-45d9-e413-20613e7eb8be"
      },
      "outputs": [
        {
          "name": "stdout",
          "output_type": "stream",
          "text": [
            "(1, 2, 5, 6, 6, 5, 2, 4)\n"
          ]
        }
      ],
      "source": [
        "#12. Concatenate two tuples.\n",
        "t1 = (1,2,5,6)\n",
        "t2 = (6,5,2,4)\n",
        "\n",
        "t3 = t1 + t2\n",
        "\n",
        "print(t3)"
      ]
    },
    {
      "cell_type": "code",
      "execution_count": null,
      "id": "4077cb1e-3f3b-4f2d-b756-13b3128334ad",
      "metadata": {
        "id": "4077cb1e-3f3b-4f2d-b756-13b3128334ad",
        "outputId": "e5527bef-8471-4325-d675-fc0bbff9f77e"
      },
      "outputs": [
        {
          "name": "stdout",
          "output_type": "stream",
          "text": [
            "(1, 2, 5, 6, 1, 2, 5, 6, 1, 2, 5, 6)\n"
          ]
        }
      ],
      "source": [
        "#13. Repeat a tuple three times.\n",
        "t1 = (1,2,5,6)\n",
        "repeated_tuple = t1 * 3\n",
        "\n",
        "print(repeated_tuple)\n"
      ]
    },
    {
      "cell_type": "code",
      "execution_count": null,
      "id": "9041fa46-8abe-4221-8f26-e26a0289e09e",
      "metadata": {
        "id": "9041fa46-8abe-4221-8f26-e26a0289e09e",
        "outputId": "b0bcbb68-d873-49c6-c380-b8eb03f0b1fa"
      },
      "outputs": [
        {
          "name": "stdout",
          "output_type": "stream",
          "text": [
            "The tuple is empty.\n"
          ]
        }
      ],
      "source": [
        "#14. Check if a tuple is empty.\n",
        "\n",
        "my_tuple = ()\n",
        "\n",
        "if not my_tuple:\n",
        "    print(\"The tuple is empty.\")\n",
        "else:\n",
        "    print(\"The tuple is not empty.\")"
      ]
    },
    {
      "cell_type": "code",
      "execution_count": null,
      "id": "80d9be41-8637-4e55-870a-fb52f06e7334",
      "metadata": {
        "id": "80d9be41-8637-4e55-870a-fb52f06e7334",
        "outputId": "0c3d77a7-39e9-4297-9eff-f94e3cb99df9"
      },
      "outputs": [
        {
          "name": "stdout",
          "output_type": "stream",
          "text": [
            "((1, 2), (3, 4), (5, 6))\n"
          ]
        }
      ],
      "source": [
        "#15. Create a nested tuple.\n",
        "\n",
        "nested_tuple = ((1, 2), (3, 4), (5, 6))\n",
        "\n",
        "print(nested_tuple)"
      ]
    },
    {
      "cell_type": "code",
      "execution_count": null,
      "id": "2fd26544-e1e4-4aac-8581-25dc3b2c4aee",
      "metadata": {
        "id": "2fd26544-e1e4-4aac-8581-25dc3b2c4aee",
        "outputId": "8408451c-ff29-4270-be7b-b8445f367959"
      },
      "outputs": [
        {
          "name": "stdout",
          "output_type": "stream",
          "text": [
            "The first element of the nested tuple is: 1\n"
          ]
        }
      ],
      "source": [
        "#16. Access the first element of a nested tuple.\n",
        "nested_tuple = ((1, 2), (3, 4), (5, 6))\n",
        "\n",
        "first_element = nested_tuple[0][0]\n",
        "\n",
        "print(\"The first element of the nested tuple is:\", first_element)"
      ]
    },
    {
      "cell_type": "code",
      "execution_count": null,
      "id": "1f1ebed3-af34-403f-b63c-842ea26840db",
      "metadata": {
        "id": "1f1ebed3-af34-403f-b63c-842ea26840db",
        "outputId": "926f0136-3332-4fff-bdc1-1e7733e7c09d"
      },
      "outputs": [
        {
          "data": {
            "text/plain": [
              "(1,)"
            ]
          },
          "execution_count": 54,
          "metadata": {},
          "output_type": "execute_result"
        }
      ],
      "source": [
        "#17. Create a tuple with a single element.\n",
        "tup = (1,)\n",
        "tup"
      ]
    },
    {
      "cell_type": "code",
      "execution_count": null,
      "id": "647aa9cd-ead3-40aa-bcf8-0d06421eaaae",
      "metadata": {
        "id": "647aa9cd-ead3-40aa-bcf8-0d06421eaaae",
        "outputId": "ed401711-93cb-4700-ea64-7d619aa23738"
      },
      "outputs": [
        {
          "name": "stdout",
          "output_type": "stream",
          "text": [
            "tuple1 is equal to tuple2\n"
          ]
        }
      ],
      "source": [
        "#18. Compare two tuples.\n",
        "\n",
        "tuple1 = (1, 2, 3)\n",
        "tuple2 = (1, 2, 3)\n",
        "\n",
        "# Equal check\n",
        "if tuple1 == tuple2:\n",
        "    print(\"tuple1 is equal to tuple2\")\n",
        "else:\n",
        "    print(\"tuple1 is not equal to tuple2\")"
      ]
    },
    {
      "cell_type": "code",
      "execution_count": null,
      "id": "1eef3c62-335c-4d4f-adb7-48f12eccb4ee",
      "metadata": {
        "id": "1eef3c62-335c-4d4f-adb7-48f12eccb4ee"
      },
      "outputs": [],
      "source": [
        "#19. Delete a tuple.\n",
        "tuple1 = (1, 2, 3)\n",
        "\n",
        "del tuple1\n",
        "\n",
        "\n"
      ]
    },
    {
      "cell_type": "code",
      "execution_count": null,
      "id": "1080f4f9-e3f9-44da-b38a-04076a155091",
      "metadata": {
        "id": "1080f4f9-e3f9-44da-b38a-04076a155091",
        "outputId": "69818e81-90ed-4196-ee78-ae4e8a3262ef"
      },
      "outputs": [
        {
          "data": {
            "text/plain": [
              "(1, 2)"
            ]
          },
          "execution_count": 6,
          "metadata": {},
          "output_type": "execute_result"
        }
      ],
      "source": [
        "#20. Slice a tuple.\n",
        "tuple1 = (1, 2, 3)\n",
        "\n",
        "t1 = tuple1[:2]\n",
        "\n",
        "t1\n"
      ]
    },
    {
      "cell_type": "code",
      "execution_count": null,
      "id": "afd86041-187c-423a-a16a-693166d3e6c6",
      "metadata": {
        "id": "afd86041-187c-423a-a16a-693166d3e6c6",
        "outputId": "4c410703-8125-4a7f-e525-066f168f0264"
      },
      "outputs": [
        {
          "name": "stdout",
          "output_type": "stream",
          "text": [
            "Maximum value in tuple  :  3\n"
          ]
        }
      ],
      "source": [
        "#21. Find the maximum value in a tuple.\n",
        "tuple1 = (1, 2, 3)\n",
        "maxv = 0\n",
        "for i in  tuple1:\n",
        "    if i> maxv:\n",
        "        maxv = i\n",
        "\n",
        "print(\"Maximum value in tuple  : \", maxv)"
      ]
    },
    {
      "cell_type": "code",
      "execution_count": null,
      "id": "ea0b59b4-7871-4d96-b468-acd7560bf614",
      "metadata": {
        "id": "ea0b59b4-7871-4d96-b468-acd7560bf614",
        "outputId": "b4aed709-dd00-45df-beac-2a56ce5da838"
      },
      "outputs": [
        {
          "name": "stdout",
          "output_type": "stream",
          "text": [
            "Minumum value in tuple  :  1\n"
          ]
        }
      ],
      "source": [
        "#22. Find the minimum value in a tuple.\n",
        "\n",
        "tuple1 = (1, 2, 3)\n",
        "maxv = 100\n",
        "for i in  tuple1:\n",
        "    if i< maxv:\n",
        "        maxv = i\n",
        "\n",
        "print(\"Minumum value in tuple  : \", maxv)"
      ]
    },
    {
      "cell_type": "code",
      "execution_count": null,
      "id": "d07412eb-ff99-44c6-ac15-99d66a613680",
      "metadata": {
        "id": "d07412eb-ff99-44c6-ac15-99d66a613680",
        "outputId": "a7c51ab3-7b91-42ff-8193-9f895bf0b328"
      },
      "outputs": [
        {
          "data": {
            "text/plain": [
              "('w', 'o', 'r', 'd')"
            ]
          },
          "execution_count": 9,
          "metadata": {},
          "output_type": "execute_result"
        }
      ],
      "source": [
        "#23. Convert a string to a tuple of characters.\n",
        "\n",
        "s = \"word\"\n",
        "tu = tuple(i for i in s)\n",
        "\n",
        "tu"
      ]
    },
    {
      "cell_type": "code",
      "execution_count": null,
      "id": "35333208-1de9-4bd2-8f7e-2be5519b29bc",
      "metadata": {
        "id": "35333208-1de9-4bd2-8f7e-2be5519b29bc",
        "outputId": "5e497aec-74d5-4c3e-b5df-cf79569dd5bc"
      },
      "outputs": [
        {
          "data": {
            "text/plain": [
              "'word'"
            ]
          },
          "execution_count": 11,
          "metadata": {},
          "output_type": "execute_result"
        }
      ],
      "source": [
        "#24. Convert a tuple of characters to a string.\n",
        "tu =('w', 'o', 'r', 'd')\n",
        "s= ''\n",
        "for i in tu:\n",
        "    s = s + i\n",
        "s"
      ]
    },
    {
      "cell_type": "code",
      "execution_count": null,
      "id": "b5a26a85-b910-4ced-8b83-0dab813dffd4",
      "metadata": {
        "id": "b5a26a85-b910-4ced-8b83-0dab813dffd4",
        "outputId": "25ff220d-9483-48ff-82ff-1a6e08d4e1da"
      },
      "outputs": [
        {
          "data": {
            "text/plain": [
              "(2, 'h', 256, 'Happy', 2.0)"
            ]
          },
          "execution_count": 13,
          "metadata": {},
          "output_type": "execute_result"
        }
      ],
      "source": [
        "##25. Create a tuple from multiple data types.\n",
        "tu = (2,'h',256,\"Happy\",2.0)\n",
        "tu\n"
      ]
    },
    {
      "cell_type": "code",
      "execution_count": null,
      "id": "631e1fea-16fd-405e-ba31-7edb834f3007",
      "metadata": {
        "id": "631e1fea-16fd-405e-ba31-7edb834f3007",
        "outputId": "11273d8c-f4e6-4081-98c6-46c1cbac738b"
      },
      "outputs": [
        {
          "name": "stdout",
          "output_type": "stream",
          "text": [
            "tuple1 and tuple2 are identical\n"
          ]
        }
      ],
      "source": [
        "#26. Check if two tuples are identical.\n",
        "\n",
        "tuple1 = (1, 2, 3)\n",
        "tuple2 = (1, 2, 3)\n",
        "\n",
        "if tuple1 == tuple2:\n",
        "    print(\"tuple1 and tuple2 are identical\")\n",
        "else:\n",
        "    print(\"tuple1 and tuple2 are not identical\")"
      ]
    },
    {
      "cell_type": "code",
      "execution_count": null,
      "id": "91a41398-650d-4cfe-bda8-83fc2e257985",
      "metadata": {
        "id": "91a41398-650d-4cfe-bda8-83fc2e257985",
        "outputId": "2223562a-ddf1-4721-b590-13614b735e7a"
      },
      "outputs": [
        {
          "data": {
            "text/plain": [
              "[2, 3, 5, 9, 10, 31]"
            ]
          },
          "execution_count": 17,
          "metadata": {},
          "output_type": "execute_result"
        }
      ],
      "source": [
        "#27. Sort the elements of a tuple.\n",
        "\n",
        "tuple1 = (10,5,9,31, 2, 3)\n",
        "s = sorted(tuple1)\n",
        "s"
      ]
    },
    {
      "cell_type": "code",
      "execution_count": null,
      "id": "eecf0c9c-f77a-43b9-ab10-9bb0c097da80",
      "metadata": {
        "id": "eecf0c9c-f77a-43b9-ab10-9bb0c097da80",
        "outputId": "8f98fe46-ce9a-4c07-ae0d-46a1c293cf12"
      },
      "outputs": [
        {
          "data": {
            "text/plain": [
              "('10', '5', '9', '31', '2', '3')"
            ]
          },
          "execution_count": 19,
          "metadata": {},
          "output_type": "execute_result"
        }
      ],
      "source": [
        "#28. Convert a tuple of integers to a tuple of strings.\n",
        "\n",
        "tuple1 = (10,5,9,31, 2, 3)\n",
        "\n",
        "tu = tuple(str(i) for i in tuple1 )\n",
        "\n",
        "tu"
      ]
    },
    {
      "cell_type": "code",
      "execution_count": null,
      "id": "8c3185d4-bdf0-4c6a-a3ed-81b986f2469e",
      "metadata": {
        "id": "8c3185d4-bdf0-4c6a-a3ed-81b986f2469e",
        "outputId": "0989043f-a7f3-4a46-d3a9-2f5da7fd5048"
      },
      "outputs": [
        {
          "data": {
            "text/plain": [
              "(10, 5, 9, 31, 2, 3)"
            ]
          },
          "execution_count": 21,
          "metadata": {},
          "output_type": "execute_result"
        }
      ],
      "source": [
        "#29. Convert a tuple of strings to a tuple of integers.\n",
        "\n",
        "tuple1 = ('10', '5', '9', '31', '2', '3')\n",
        "\n",
        "tu = tuple(int(i) for i in tuple1 )\n",
        "\n",
        "tu"
      ]
    },
    {
      "cell_type": "code",
      "execution_count": null,
      "id": "c719b8d5-f8c0-4b42-bb83-578ed5d0a9cb",
      "metadata": {
        "id": "c719b8d5-f8c0-4b42-bb83-578ed5d0a9cb",
        "outputId": "1829c5fc-cefe-439c-a569-ab87c97bd775"
      },
      "outputs": [
        {
          "data": {
            "text/plain": [
              "(1, 2, 3, 6, 8, 3)"
            ]
          },
          "execution_count": 22,
          "metadata": {},
          "output_type": "execute_result"
        }
      ],
      "source": [
        "#30. Merge two tuples.\n",
        "\n",
        "tuple1 = (1, 2, 3)\n",
        "tuple2 = (6, 8, 3)\n",
        "\n",
        "t3 = tuple1 + tuple2\n",
        "\n",
        "t3"
      ]
    },
    {
      "cell_type": "code",
      "execution_count": null,
      "id": "147b30bc-e077-44f9-8702-d03cf3815dfc",
      "metadata": {
        "id": "147b30bc-e077-44f9-8702-d03cf3815dfc",
        "outputId": "fec25172-cc85-4fb0-ffc9-c110038b7455"
      },
      "outputs": [
        {
          "name": "stdout",
          "output_type": "stream",
          "text": [
            "(1, 2, 3, 4, 5, 6)\n"
          ]
        }
      ],
      "source": [
        "#31. Flatten a nested tuple.\n",
        "def flatten_tuple(nested_tuple):\n",
        "    flattened_list = []\n",
        "\n",
        "    for item in nested_tuple:\n",
        "        if isinstance(item, tuple):\n",
        "            flattened_list.extend(flatten_tuple(item))\n",
        "        else:\n",
        "            flattened_list.append(item)\n",
        "\n",
        "    return tuple(flattened_list)\n",
        "\n",
        "\n",
        "nested_tuple = ((1, 2), (3, (4, 5)), 6)\n",
        "\n",
        "flattened = flatten_tuple(nested_tuple)\n",
        "print(flattened)\n"
      ]
    },
    {
      "cell_type": "code",
      "execution_count": null,
      "id": "0fd4b739-4a6b-4afe-8528-e3a80672fd3c",
      "metadata": {
        "id": "0fd4b739-4a6b-4afe-8528-e3a80672fd3c",
        "outputId": "f97aed8b-a3e8-40dd-b063-315a23ad2a6b"
      },
      "outputs": [
        {
          "name": "stdout",
          "output_type": "stream",
          "text": [
            "(2, 3, 5, 7, 11)\n"
          ]
        }
      ],
      "source": [
        "#32. Create a tuple of the first 5 prime numbers.\n",
        "def is_prime(number):\n",
        "    if number <= 1:\n",
        "        return False\n",
        "    if number <= 3:\n",
        "        return True\n",
        "    if number % 2 == 0 or number % 3 == 0:\n",
        "        return False\n",
        "    i = 5\n",
        "    while i * i <= number:\n",
        "        if number % i == 0 or number % (i + 2) == 0:\n",
        "            return False\n",
        "        i += 6\n",
        "    return True\n",
        "\n",
        "# Generate a list of prime numbers up to 50\n",
        "prime_numbers = tuple(x for x in range(2, 12) if is_prime(x))\n",
        "\n",
        "print(prime_numbers)\n"
      ]
    },
    {
      "cell_type": "code",
      "execution_count": null,
      "id": "5d44b175-e180-4135-8201-8e04cc19292d",
      "metadata": {
        "id": "5d44b175-e180-4135-8201-8e04cc19292d",
        "outputId": "dd1cd8b3-eee1-481d-eb17-47121b8411b1"
      },
      "outputs": [
        {
          "name": "stdout",
          "output_type": "stream",
          "text": [
            "It is Palindrome\n"
          ]
        }
      ],
      "source": [
        "#33. Check if a tuple is a palindrome.\n",
        "\n",
        "t1 = ('m','a','d','a','m')\n",
        "\n",
        "t2 = t1[::-1]\n",
        "\n",
        "if t1==t2:\n",
        "    print(\"It is Palindrome\")\n",
        "else:\n",
        "    print(\"It is not pallindrome\")"
      ]
    },
    {
      "cell_type": "code",
      "execution_count": null,
      "id": "77030371-754f-4b67-921a-4a822e3b0135",
      "metadata": {
        "id": "77030371-754f-4b67-921a-4a822e3b0135",
        "outputId": "91bcaf87-67ac-427f-9c69-75ea1042b667"
      },
      "outputs": [
        {
          "data": {
            "text/plain": [
              "(1, 4, 9, 16, 25)"
            ]
          },
          "execution_count": 34,
          "metadata": {},
          "output_type": "execute_result"
        }
      ],
      "source": [
        "#34. Create a tuple of squares of numbers from 1 to 5.\n",
        "\n",
        "\n",
        "t1 = tuple(i**2 for i in range(1,6))\n",
        "\n",
        "t1\n",
        "\n"
      ]
    },
    {
      "cell_type": "code",
      "execution_count": null,
      "id": "a8d0f0e2-4833-4283-9caa-83d961a05e38",
      "metadata": {
        "id": "a8d0f0e2-4833-4283-9caa-83d961a05e38",
        "outputId": "3671e333-207e-48f9-b2b5-c23a29b5ad90"
      },
      "outputs": [
        {
          "data": {
            "text/plain": [
              "(2, 4, 6, 8, 10, 56)"
            ]
          },
          "execution_count": 35,
          "metadata": {},
          "output_type": "execute_result"
        }
      ],
      "source": [
        "#35. Filter out all even numbers from a tuple.\n",
        "\n",
        "t1 = (2,5,6,8,4,6,1,10,25,56)\n",
        "t2 = tuple(set(t1))\n",
        "\n",
        "t3 = tuple(i for i in t2 if i %2 ==0 )\n",
        "\n",
        "t3"
      ]
    },
    {
      "cell_type": "code",
      "execution_count": null,
      "id": "e515ab44-8f1d-4bd1-bd9b-7eb3624eb71c",
      "metadata": {
        "id": "e515ab44-8f1d-4bd1-bd9b-7eb3624eb71c",
        "outputId": "78c8df34-1c5c-4998-e5f7-df1d8c0fb473"
      },
      "outputs": [
        {
          "data": {
            "text/plain": [
              "(4, 10, 12, 16, 8, 12, 2, 20, 50, 112)"
            ]
          },
          "execution_count": 36,
          "metadata": {},
          "output_type": "execute_result"
        }
      ],
      "source": [
        "#36. Multiply all elements in a tuple by 2.\n",
        "t1 = (2,5,6,8,4,6,1,10,25,56)\n",
        "\n",
        "t3 = tuple(i*2 for i in t1)\n",
        "t3"
      ]
    },
    {
      "cell_type": "code",
      "execution_count": null,
      "id": "6f9e0d7e-babd-4067-a338-c14e9ca64d27",
      "metadata": {
        "id": "6f9e0d7e-babd-4067-a338-c14e9ca64d27",
        "outputId": "1897ddc4-faac-4ba9-f8fa-e674f42cebff"
      },
      "outputs": [
        {
          "name": "stdout",
          "output_type": "stream",
          "text": [
            "(23, 52, 90, 21, 2)\n"
          ]
        }
      ],
      "source": [
        "#37. Create a tuple of random numbers.\n",
        "import random\n",
        "\n",
        "random_numbers = tuple(random.randint(1, 100) for _ in range(5))\n",
        "\n",
        "print(random_numbers)"
      ]
    },
    {
      "cell_type": "code",
      "execution_count": null,
      "id": "abdd2748-5c32-460e-b95d-f71f36feb4dd",
      "metadata": {
        "id": "abdd2748-5c32-460e-b95d-f71f36feb4dd",
        "outputId": "49a73d19-e032-4998-b4d5-060ec3d72955"
      },
      "outputs": [
        {
          "name": "stdout",
          "output_type": "stream",
          "text": [
            "Tupple is not sorted\n"
          ]
        }
      ],
      "source": [
        "#38. Check if a tuple is sorted.\n",
        "t1 = (2,5,6,8,4,6,1,10,25,56)\n",
        "\n",
        "t2 = sorted(t1)\n",
        "\n",
        "if t1 == t2:\n",
        "    print(\"Tupple is sorted\")\n",
        "else:\n",
        "    print(\"Tupple is not sorted\")"
      ]
    },
    {
      "cell_type": "code",
      "execution_count": null,
      "id": "da20d77f-f433-4e63-a033-80985a9df57f",
      "metadata": {
        "id": "da20d77f-f433-4e63-a033-80985a9df57f",
        "outputId": "f9ed8add-334c-41b4-ffdc-42a2f4601730"
      },
      "outputs": [
        {
          "data": {
            "text/plain": [
              "(6, 1, 10, 25, 56, 2, 5, 6, 8, 4)"
            ]
          },
          "execution_count": 2,
          "metadata": {},
          "output_type": "execute_result"
        }
      ],
      "source": [
        "#39. Rotate a tuple to the left by `n` positions.\n",
        "t1 = (2,5,6,8,4,6,1,10,25,56)\n",
        "n = 5\n",
        "\n",
        "t1 = t1[n:] +t1[0:n]\n",
        "\n",
        "t1"
      ]
    },
    {
      "cell_type": "code",
      "execution_count": null,
      "id": "032004fb-64d1-456a-9132-ec20115607a0",
      "metadata": {
        "id": "032004fb-64d1-456a-9132-ec20115607a0",
        "outputId": "70c4fabc-dd2c-4c4c-ce41-7fb4c9bff475"
      },
      "outputs": [
        {
          "data": {
            "text/plain": [
              "(6, 1, 10, 25, 56, 2, 5, 6, 8, 4)"
            ]
          },
          "execution_count": 3,
          "metadata": {},
          "output_type": "execute_result"
        }
      ],
      "source": [
        "#40. Rotate a tuple to the right by `n` positions.\n",
        "\n",
        "t1 = (2,5,6,8,4,6,1,10,25,56)\n",
        "n = 5\n",
        "\n",
        "t1 = t1[-n:] +t1[0:-n]\n",
        "\n",
        "t1"
      ]
    },
    {
      "cell_type": "code",
      "execution_count": null,
      "id": "d57d3589-9a22-491b-a614-09ed3ae93241",
      "metadata": {
        "id": "d57d3589-9a22-491b-a614-09ed3ae93241",
        "outputId": "c97299cb-98f5-49b0-fde6-86ced8f5bfb8"
      },
      "outputs": [
        {
          "name": "stdout",
          "output_type": "stream",
          "text": [
            "(0, 1, 1, 2, 3)\n"
          ]
        }
      ],
      "source": [
        "#41. Create a tuple of the first 5 Fibonacci numbers.\n",
        "\n",
        "\n",
        "listt =tuple()\n",
        "for i in range(0,5):\n",
        "    if i<=1:\n",
        "        listt=  listt + (i,)\n",
        "    else:\n",
        "        listt =  listt + ((listt[i-1] + listt[i-2]),)\n",
        "\n",
        "\n",
        "print(listt)"
      ]
    },
    {
      "cell_type": "code",
      "execution_count": null,
      "id": "ff5b4486-d3eb-4bca-b027-34d245e31bf2",
      "metadata": {
        "id": "ff5b4486-d3eb-4bca-b027-34d245e31bf2",
        "outputId": "d22c9dcb-74df-44d2-8d7a-24c1a7161c80"
      },
      "outputs": [
        {
          "name": "stdin",
          "output_type": "stream",
          "text": [
            "Enter values separated by commas:  1,2,3,6,5\n"
          ]
        },
        {
          "name": "stdout",
          "output_type": "stream",
          "text": [
            "User input as a tuple: ('1', '2', '3', '6', '5')\n"
          ]
        }
      ],
      "source": [
        "#42. Create a tuple from user input.\n",
        "input_values = input(\"Enter values separated by commas: \")\n",
        "\n",
        "# Split the input string by commas and convert it into a tuple\n",
        "user_tuple = tuple(input_values.split(','))\n",
        "\n",
        "print(\"User input as a tuple:\", user_tuple)"
      ]
    },
    {
      "cell_type": "code",
      "execution_count": null,
      "id": "10de03e3-270d-4fda-b1d0-fe97117fc761",
      "metadata": {
        "id": "10de03e3-270d-4fda-b1d0-fe97117fc761",
        "outputId": "003c88ad-9ba8-4971-da46-d1b1ea192e1d"
      },
      "outputs": [
        {
          "name": "stdout",
          "output_type": "stream",
          "text": [
            "Original Tuple: (1, 2, 3, 4)\n",
            "Tuple after swapping elements: (3, 2, 1, 4)\n"
          ]
        }
      ],
      "source": [
        "#43. Swap two elements in a tuple.\n",
        "\n",
        "original_tuple = (1, 2, 3, 4)\n",
        "\n",
        "# Convert the tuple to a list\n",
        "tuple_list = list(original_tuple)\n",
        "\n",
        "# Define the indices of the elements to swap\n",
        "index1 = 0\n",
        "index2 = 2\n",
        "\n",
        "# Perform the swap\n",
        "tuple_list[index1], tuple_list[index2] = tuple_list[index2], tuple_list[index1]\n",
        "\n",
        "# Convert the list back to a tuple\n",
        "swapped_tuple = tuple(tuple_list)\n",
        "\n",
        "print(\"Original Tuple:\", original_tuple)\n",
        "print(\"Tuple after swapping elements:\", swapped_tuple)"
      ]
    },
    {
      "cell_type": "code",
      "execution_count": null,
      "id": "d0edfb3e-6d30-493c-8d42-d4d96c1e5d22",
      "metadata": {
        "id": "d0edfb3e-6d30-493c-8d42-d4d96c1e5d22",
        "outputId": "6c70088f-d4da-4646-b413-a20e400a0472"
      },
      "outputs": [
        {
          "data": {
            "text/plain": [
              "(4, 3, 2, 1)"
            ]
          },
          "execution_count": 15,
          "metadata": {},
          "output_type": "execute_result"
        }
      ],
      "source": [
        "#44. Reverse the elements of a tuple.\n",
        "\n",
        "t1 = (1, 2, 3, 4)\n",
        "t1[::-1]"
      ]
    },
    {
      "cell_type": "code",
      "execution_count": null,
      "id": "52e073c7-1840-4737-8bda-f8fe64382af1",
      "metadata": {
        "id": "52e073c7-1840-4737-8bda-f8fe64382af1",
        "outputId": "c71828be-3215-4a46-f50e-c5bbcf74d695"
      },
      "outputs": [
        {
          "data": {
            "text/plain": [
              "(0, 1, 4, 9, 16)"
            ]
          },
          "execution_count": 17,
          "metadata": {},
          "output_type": "execute_result"
        }
      ],
      "source": [
        "#45. Create a tuple of the first `n` powers of 2.\n",
        "n =5\n",
        "t1 = tuple(i**2 for i in range(n))\n",
        "\n",
        "t1"
      ]
    },
    {
      "cell_type": "code",
      "execution_count": null,
      "id": "345c4680-e0cc-46d0-8ac9-02c6f001a450",
      "metadata": {
        "id": "345c4680-e0cc-46d0-8ac9-02c6f001a450",
        "outputId": "475144a5-f48b-4515-cbda-1c9b46650f3a"
      },
      "outputs": [
        {
          "name": "stdout",
          "output_type": "stream",
          "text": [
            "Longest string in tuple is : brother\n"
          ]
        }
      ],
      "source": [
        "#46. Find the longest string in a tuple of strings.\n",
        "t1 = ('hello','how','are','you','brother','i')\n",
        "\n",
        "long_word_count = 0\n",
        "long_word_index = 0\n",
        "\n",
        "for i in t1:\n",
        "    if len(i)>= long_word_count:\n",
        "        long_word_count = len(i)\n",
        "        long_word_index = t1.index(i)\n",
        "\n",
        "print(\"Longest string in tuple is :\", t1[long_word_index])\n"
      ]
    },
    {
      "cell_type": "code",
      "execution_count": null,
      "id": "e807d991-283a-4f81-a5dd-05ed8337803a",
      "metadata": {
        "id": "e807d991-283a-4f81-a5dd-05ed8337803a",
        "outputId": "542bb19d-835a-4f15-ed61-794d8592d4bc"
      },
      "outputs": [
        {
          "name": "stdout",
          "output_type": "stream",
          "text": [
            "Longest string in tuple is : i\n"
          ]
        }
      ],
      "source": [
        "#47. Find the shortest string in a tuple of strings.\n",
        "t1 = ('hello','how','are','you','brother','i')\n",
        "\n",
        "short_word_count = 100\n",
        "short_word_index = 0\n",
        "\n",
        "for i in t1:\n",
        "    if len(i)<= short_word_count:\n",
        "        short_word_count = len(i)\n",
        "        short_word_index = t1.index(i)\n",
        "\n",
        "print(\"Longest string in tuple is :\", t1[short_word_index])"
      ]
    },
    {
      "cell_type": "code",
      "execution_count": null,
      "id": "0e7b3fba-17bd-4265-94be-9b241517b08b",
      "metadata": {
        "id": "0e7b3fba-17bd-4265-94be-9b241517b08b",
        "outputId": "6c2a8e95-4a53-4ed4-c89b-fa21335bf692"
      },
      "outputs": [
        {
          "name": "stdout",
          "output_type": "stream",
          "text": [
            "[1, 3, 6, 10, 15]\n"
          ]
        }
      ],
      "source": [
        "#48. Create a tuple of the first `n` triangular numbers.\n",
        "n = 5\n",
        "triangles = [i * (i + 1) // 2 for i in range(1, n + 1)]\n",
        "print(triangles)"
      ]
    },
    {
      "cell_type": "code",
      "execution_count": null,
      "id": "84293a3d-0e84-4e51-8301-29d918d14d78",
      "metadata": {
        "id": "84293a3d-0e84-4e51-8301-29d918d14d78",
        "outputId": "6dfd0f1a-47e7-46b0-c745-aa7dc438dcf2"
      },
      "outputs": [
        {
          "name": "stdout",
          "output_type": "stream",
          "text": [
            "Main tuple contain Sub tuple\n"
          ]
        }
      ],
      "source": [
        "#49. Check if a tuple contains another tuple as a subsequence.\n",
        "\n",
        "main_tuple = (1, 2, 3, 4, 5, 6)\n",
        "sub_tuple = (3, 4)\n",
        "\n",
        "sub_len = len(sub_tuple)\n",
        "sub_index = 0\n",
        "for element in main_tuple:\n",
        "    if element == sub_tuple[sub_index]:\n",
        "        sub_index += 1\n",
        "        if sub_index == sub_len:\n",
        "            print(\"Main tuple contain Sub tuple\")\n",
        "            break"
      ]
    },
    {
      "cell_type": "code",
      "execution_count": null,
      "id": "6eae5144-743d-4145-b11a-e0659a82d8ac",
      "metadata": {
        "id": "6eae5144-743d-4145-b11a-e0659a82d8ac",
        "outputId": "a6fc0998-450f-461c-cf3e-9acbdaeec7c5"
      },
      "outputs": [
        {
          "data": {
            "text/plain": [
              "(1, 0, 1, 0, 1, 0, 1)"
            ]
          },
          "execution_count": 29,
          "metadata": {},
          "output_type": "execute_result"
        }
      ],
      "source": [
        "#50. Create a tuple of alternating 1s and 0s of length `n`.\n",
        "n = 7\n",
        "alternating_list = [1 if i % 2 == 0 else 0 for i in range(n)]\n",
        "alternating_tuple = tuple(alternating_list)\n",
        "alternating_tuple\n"
      ]
    },
    {
      "cell_type": "markdown",
      "id": "9e817c07-5f79-467c-8a78-ecbb07ffedb7",
      "metadata": {
        "id": "9e817c07-5f79-467c-8a78-ecbb07ffedb7"
      },
      "source": [
        "\n",
        "Set Based Practice Problem :\n",
        "    "
      ]
    },
    {
      "cell_type": "code",
      "execution_count": null,
      "id": "a208e0ed-4b3c-4184-a5a9-0823fb4b8425",
      "metadata": {
        "id": "a208e0ed-4b3c-4184-a5a9-0823fb4b8425",
        "outputId": "7c8747f4-34d9-4f1a-bdc1-4e0b0b721709"
      },
      "outputs": [
        {
          "data": {
            "text/plain": [
              "{1, 2, 3, 4, 5}"
            ]
          },
          "execution_count": 1,
          "metadata": {},
          "output_type": "execute_result"
        }
      ],
      "source": [
        "#1. Create a set with integers from 1 to 5.\n",
        "s = {1,2,3,4,5}\n",
        "s"
      ]
    },
    {
      "cell_type": "code",
      "execution_count": null,
      "id": "f71776b3-2165-4313-9b46-d13b702b5d30",
      "metadata": {
        "id": "f71776b3-2165-4313-9b46-d13b702b5d30",
        "outputId": "d35229ba-ebf1-46a4-c779-7338ce500b90"
      },
      "outputs": [
        {
          "data": {
            "text/plain": [
              "{1, 2, 3, 4, 5, 25}"
            ]
          },
          "execution_count": 2,
          "metadata": {},
          "output_type": "execute_result"
        }
      ],
      "source": [
        "#2. Add an element to a set.\n",
        "s = {1,2,3,4,5}\n",
        "s.add(25)\n",
        "s"
      ]
    },
    {
      "cell_type": "code",
      "execution_count": null,
      "id": "dda25ea5-50c1-4b4a-8795-58d8e3a3f03b",
      "metadata": {
        "id": "dda25ea5-50c1-4b4a-8795-58d8e3a3f03b",
        "outputId": "5cc2cf27-006e-4e2b-8a72-199e2b24bb98"
      },
      "outputs": [
        {
          "data": {
            "text/plain": [
              "{1, 2, 3, 5}"
            ]
          },
          "execution_count": 3,
          "metadata": {},
          "output_type": "execute_result"
        }
      ],
      "source": [
        "#3. Remove an element from a set.\n",
        "s = {1,2,3,4,5}\n",
        "s.remove(4)\n",
        "s"
      ]
    },
    {
      "cell_type": "code",
      "execution_count": null,
      "id": "7bf84fe0-d328-4504-bc83-6c9c7316f18c",
      "metadata": {
        "id": "7bf84fe0-d328-4504-bc83-6c9c7316f18c",
        "outputId": "9b895562-4c15-444d-d451-4e518c2d15ac"
      },
      "outputs": [
        {
          "name": "stdout",
          "output_type": "stream",
          "text": [
            "element exist in set\n"
          ]
        }
      ],
      "source": [
        "#4. Check if an element exists in a set.\n",
        "s = {1,2,3,4,5}\n",
        "n=3\n",
        "if n in s:\n",
        "    print(\"element exist in set\")\n",
        "else:\n",
        "    print(\"element not exist in set\")\n"
      ]
    },
    {
      "cell_type": "code",
      "execution_count": null,
      "id": "5a31b14d-f354-41be-9465-ceccf4c67466",
      "metadata": {
        "id": "5a31b14d-f354-41be-9465-ceccf4c67466",
        "outputId": "d6d845ce-0728-43ae-8906-b911a5aac48e"
      },
      "outputs": [
        {
          "name": "stdout",
          "output_type": "stream",
          "text": [
            "The length of the set is: 5\n"
          ]
        }
      ],
      "source": [
        "#5. Find the length of a set without using the `len()` function.\n",
        "my_set = {1, 2, 3, 4, 5}\n",
        "count = 0\n",
        "\n",
        "for element in my_set:\n",
        "    count += 1\n",
        "\n",
        "print(\"The length of the set is:\", count)\n"
      ]
    },
    {
      "cell_type": "code",
      "execution_count": null,
      "id": "d81f5fd8-69d1-4402-b033-fc3e2f4b2d95",
      "metadata": {
        "id": "d81f5fd8-69d1-4402-b033-fc3e2f4b2d95",
        "outputId": "e9f8c16c-d056-4790-f614-8e3ac17620bb"
      },
      "outputs": [
        {
          "data": {
            "text/plain": [
              "set()"
            ]
          },
          "execution_count": 13,
          "metadata": {},
          "output_type": "execute_result"
        }
      ],
      "source": [
        "#6. Clear all elements from a set.\n",
        "my_set = {1, 2, 3, 4, 5}\n",
        "my_set.clear()\n",
        "my_set"
      ]
    },
    {
      "cell_type": "code",
      "execution_count": null,
      "id": "6c397df3-8ea7-479b-8f1a-2073398f4435",
      "metadata": {
        "id": "6c397df3-8ea7-479b-8f1a-2073398f4435",
        "outputId": "5a03c73a-0dfd-480e-dd53-375060e307ff"
      },
      "outputs": [
        {
          "data": {
            "text/plain": [
              "{2, 4, 6, 8, 10}"
            ]
          },
          "execution_count": 14,
          "metadata": {},
          "output_type": "execute_result"
        }
      ],
      "source": [
        "#7. Create a set of even numbers from 1 to 10.\n",
        "s = {i for i in range(1,11) if i%2 == 0}\n",
        "s"
      ]
    },
    {
      "cell_type": "code",
      "execution_count": null,
      "id": "c7228f7d-54de-4935-b28b-700d44459a72",
      "metadata": {
        "id": "c7228f7d-54de-4935-b28b-700d44459a72",
        "outputId": "67d62631-22d5-4f18-a61e-f758ffeeafb5"
      },
      "outputs": [
        {
          "data": {
            "text/plain": [
              "{1, 3, 5, 7, 9}"
            ]
          },
          "execution_count": 15,
          "metadata": {},
          "output_type": "execute_result"
        }
      ],
      "source": [
        "#8. Create a set of odd numbers from 1 to 10.\n",
        "s = {i for i in range(1,11) if i%2 != 0}\n",
        "s"
      ]
    },
    {
      "cell_type": "code",
      "execution_count": null,
      "id": "f4fa5aea-2cd1-4b4b-aa48-82718a604bef",
      "metadata": {
        "id": "f4fa5aea-2cd1-4b4b-aa48-82718a604bef",
        "outputId": "4cd7c051-f87e-4409-ffdf-387dba0b86f1"
      },
      "outputs": [
        {
          "data": {
            "text/plain": [
              "{1, 3, 4, 5, 6, 7, 8, 9}"
            ]
          },
          "execution_count": 16,
          "metadata": {},
          "output_type": "execute_result"
        }
      ],
      "source": [
        "#9. Find the union of two sets.\n",
        "s1 = {1,9,5,6,4,8}\n",
        "s2 = {5,1,3,6,7,4}\n",
        "s3 = s1.union(s2)\n",
        "s3"
      ]
    },
    {
      "cell_type": "code",
      "execution_count": null,
      "id": "43389449-facd-4bdf-aa39-5d7fe18863cc",
      "metadata": {
        "id": "43389449-facd-4bdf-aa39-5d7fe18863cc",
        "outputId": "f4bd5411-036c-447f-a0f4-0377747ed283"
      },
      "outputs": [
        {
          "data": {
            "text/plain": [
              "{1, 4, 5, 6}"
            ]
          },
          "execution_count": 17,
          "metadata": {},
          "output_type": "execute_result"
        }
      ],
      "source": [
        "#10. Find the intersection of two sets.\n",
        "s1 = {1,9,5,6,4,8}\n",
        "s2 = {5,1,3,6,7,4}\n",
        "s3 = s1.intersection(s2)\n",
        "s3"
      ]
    },
    {
      "cell_type": "code",
      "execution_count": null,
      "id": "785afdf9-4da1-4689-adbd-cb20d2754bb3",
      "metadata": {
        "id": "785afdf9-4da1-4689-adbd-cb20d2754bb3",
        "outputId": "1474c74a-9409-45c2-9c31-172546a7d0cd"
      },
      "outputs": [
        {
          "data": {
            "text/plain": [
              "{8, 9}"
            ]
          },
          "execution_count": 18,
          "metadata": {},
          "output_type": "execute_result"
        }
      ],
      "source": [
        "#11. Find the difference between two sets.\n",
        "s1 = {1,9,5,6,4,8}\n",
        "s2 = {5,1,3,6,7,4}\n",
        "s3 = s1.difference(s2)\n",
        "s3"
      ]
    },
    {
      "cell_type": "code",
      "execution_count": null,
      "id": "643b7640-7261-4682-98d3-d69bd11de6c6",
      "metadata": {
        "id": "643b7640-7261-4682-98d3-d69bd11de6c6",
        "outputId": "d20586c5-62be-4a6f-af0e-163260707c0f"
      },
      "outputs": [
        {
          "name": "stdout",
          "output_type": "stream",
          "text": [
            "set is a subset of another set\n"
          ]
        }
      ],
      "source": [
        "#12. Check if a set is a subset of another set.\n",
        "s1 = {1,9,5,6,4,8}\n",
        "s2 = {5,1}\n",
        "\n",
        "if s2.issubset(s1):\n",
        "    print(\"set is a subset of another set\")\n",
        "else:\n",
        "    print(\"set is not a subset of another set\")"
      ]
    },
    {
      "cell_type": "code",
      "execution_count": null,
      "id": "8e4d2da8-9348-4550-9ab9-a49a18502a7b",
      "metadata": {
        "id": "8e4d2da8-9348-4550-9ab9-a49a18502a7b",
        "outputId": "75577aa4-243d-4f9a-8bb1-8d890beb5046"
      },
      "outputs": [
        {
          "name": "stdout",
          "output_type": "stream",
          "text": [
            "set is a superset of another set\n"
          ]
        }
      ],
      "source": [
        "#13. Check if a set is a superset of another set.\n",
        "\n",
        "s1 = {1,9,5,6,4,8}\n",
        "s2 = {5,1}\n",
        "\n",
        "if s1.issuperset(s2):\n",
        "    print(\"set is a superset of another set\")\n",
        "else:\n",
        "    print(\"set is not a superset of another set\")"
      ]
    },
    {
      "cell_type": "code",
      "execution_count": null,
      "id": "fb26ed16-eb18-4503-abcb-5ed2c0219512",
      "metadata": {
        "id": "fb26ed16-eb18-4503-abcb-5ed2c0219512",
        "outputId": "2db4cf5a-28c1-44ae-e7e8-65e5aaa36ca7"
      },
      "outputs": [
        {
          "data": {
            "text/plain": [
              "{0, 1, 2, 3, 5, 9, 14}"
            ]
          },
          "execution_count": 24,
          "metadata": {},
          "output_type": "execute_result"
        }
      ],
      "source": [
        "#14. Create a set from a list.\n",
        "l1 = [0,1,2,3,1,2,9,3,1,5,14]\n",
        "\n",
        "s1 = set(l1)\n",
        "s1"
      ]
    },
    {
      "cell_type": "code",
      "execution_count": null,
      "id": "cd1871b4-f88a-48f3-976a-cde401ea8ade",
      "metadata": {
        "id": "cd1871b4-f88a-48f3-976a-cde401ea8ade",
        "outputId": "fe605e47-54be-4bc3-d87a-222463af0bab"
      },
      "outputs": [
        {
          "data": {
            "text/plain": [
              "[0, 1, 2, 3, 5, 9, 14]"
            ]
          },
          "execution_count": 25,
          "metadata": {},
          "output_type": "execute_result"
        }
      ],
      "source": [
        "#15. Convert a set to a list.\n",
        "s1 ={0, 1, 2, 3, 5, 9, 14}\n",
        "\n",
        "l1 = list(s1)\n",
        "l1"
      ]
    },
    {
      "cell_type": "code",
      "execution_count": null,
      "id": "413b6b01-b84d-4e49-a112-c3bb1219188f",
      "metadata": {
        "id": "413b6b01-b84d-4e49-a112-c3bb1219188f",
        "outputId": "6aae3f38-8d72-422b-962e-27fe15b49d40"
      },
      "outputs": [
        {
          "data": {
            "text/plain": [
              "{0, 1, 2, 5, 9, 14}"
            ]
          },
          "execution_count": 26,
          "metadata": {},
          "output_type": "execute_result"
        }
      ],
      "source": [
        "#16. Remove a random element from a set.\n",
        "\n",
        "s1 ={0, 1, 2, 3, 5, 9, 14}\n",
        "\n",
        "s1.remove(3)\n",
        "s1"
      ]
    },
    {
      "cell_type": "code",
      "execution_count": null,
      "id": "420c2377-0bf4-44bf-9c65-37ef7adc9839",
      "metadata": {
        "id": "420c2377-0bf4-44bf-9c65-37ef7adc9839",
        "outputId": "afbd9b31-6d36-48ea-bac2-4c4b7e80337e"
      },
      "outputs": [
        {
          "data": {
            "text/plain": [
              "{1, 2, 3, 5, 9, 14}"
            ]
          },
          "execution_count": 27,
          "metadata": {},
          "output_type": "execute_result"
        }
      ],
      "source": [
        "#17. Pop an element from a set.\n",
        "s1 ={0, 1, 2, 3, 5, 9, 14}\n",
        "\n",
        "s1.pop()\n",
        "s1"
      ]
    },
    {
      "cell_type": "code",
      "execution_count": null,
      "id": "1cc32368-0fb1-4bdd-93c4-c0772cb2af3a",
      "metadata": {
        "id": "1cc32368-0fb1-4bdd-93c4-c0772cb2af3a",
        "outputId": "e08c5bd6-ad06-45c2-c396-0d2fcb5df452"
      },
      "outputs": [
        {
          "name": "stdout",
          "output_type": "stream",
          "text": [
            "The two sets have no elements in common.\n"
          ]
        }
      ],
      "source": [
        "#18. Check if two sets have no elements in common.\n",
        "set1 = {1, 2, 3, 4, 5}\n",
        "set2 = {6, 7, 8}\n",
        "\n",
        "if set1.isdisjoint(set2):\n",
        "    print(\"The two sets have no elements in common.\")\n",
        "else:\n",
        "    print(\"The two sets have at least one common element.\")"
      ]
    },
    {
      "cell_type": "code",
      "execution_count": null,
      "id": "b6b83599-31b1-4bde-b787-88f6233de4fb",
      "metadata": {
        "id": "b6b83599-31b1-4bde-b787-88f6233de4fb",
        "outputId": "683a5100-f65b-4f7b-8ab4-2ec201702eb3"
      },
      "outputs": [
        {
          "data": {
            "text/plain": [
              "{1, 2, 3, 4, 5, 6, 7, 8}"
            ]
          },
          "execution_count": 29,
          "metadata": {},
          "output_type": "execute_result"
        }
      ],
      "source": [
        "#19. Find the symmetric difference between two sets.\n",
        "set1 = {1, 2, 3, 4, 5}\n",
        "set2 = {6, 7, 8}\n",
        "\n",
        "s3 = set1.symmetric_difference(set2)\n",
        "s3\n"
      ]
    },
    {
      "cell_type": "code",
      "execution_count": null,
      "id": "2ab921f6-ac0d-48fb-ad48-18a9d762a2b2",
      "metadata": {
        "id": "2ab921f6-ac0d-48fb-ad48-18a9d762a2b2",
        "outputId": "dbc7aa92-fb76-4bf9-dade-db20dc0dafd5"
      },
      "outputs": [
        {
          "data": {
            "text/plain": [
              "{1, 2, 3, 4, 5, 6, 7, 8}"
            ]
          },
          "execution_count": 33,
          "metadata": {},
          "output_type": "execute_result"
        }
      ],
      "source": [
        "#20. Update a set with elements from another set.\n",
        "set1 = {1, 2, 3, 4, 5}\n",
        "set2 = {6, 7, 8}\n",
        "\n",
        "set1.update(set2)\n",
        "\n",
        "set1\n",
        "\n"
      ]
    },
    {
      "cell_type": "code",
      "execution_count": null,
      "id": "28d87bb5-b6b2-401e-84b4-fe65c9bffd90",
      "metadata": {
        "id": "28d87bb5-b6b2-401e-84b4-fe65c9bffd90",
        "outputId": "93a3c8f4-614a-45bf-bd61-436a11c78578"
      },
      "outputs": [
        {
          "data": {
            "text/plain": [
              "{2, 3, 5, 7, 11}"
            ]
          },
          "execution_count": 35,
          "metadata": {},
          "output_type": "execute_result"
        }
      ],
      "source": [
        "#21. Create a set of the first 5 prime numbers.\n",
        "prime_numbers = {2, 3, 5, 7, 11}\n",
        "prime_numbers"
      ]
    },
    {
      "cell_type": "code",
      "execution_count": null,
      "id": "54d8c14b-d04f-4b7f-b708-691089d3b08a",
      "metadata": {
        "id": "54d8c14b-d04f-4b7f-b708-691089d3b08a",
        "outputId": "e413ebd1-2081-4db2-f4ec-2dd01f2129af"
      },
      "outputs": [
        {
          "name": "stdout",
          "output_type": "stream",
          "text": [
            "The sets are identical.\n"
          ]
        }
      ],
      "source": [
        "#22. Check if two sets are identical.\n",
        "\n",
        "set1 = {1, 2, 3, 4}\n",
        "set2 = {4, 3, 2, 1}\n",
        "\n",
        "if set1 == set2:\n",
        "    print(\"The sets are identical.\")\n",
        "else:\n",
        "    print(\"The sets are not identical.\")"
      ]
    },
    {
      "cell_type": "code",
      "execution_count": null,
      "id": "71047046-286f-49c5-945c-bae9352076f7",
      "metadata": {
        "id": "71047046-286f-49c5-945c-bae9352076f7",
        "outputId": "4cb46bdb-cbae-4175-8349-ce4fb38b3d09"
      },
      "outputs": [
        {
          "name": "stdout",
          "output_type": "stream",
          "text": [
            "frozenset({1, 2, 3, 4})\n"
          ]
        }
      ],
      "source": [
        "#23. Create a frozen set.\n",
        "my_set = {1, 2, 3, 4}\n",
        "my_frozen_set = frozenset(my_set)\n",
        "\n",
        "print(my_frozen_set)"
      ]
    },
    {
      "cell_type": "code",
      "execution_count": null,
      "id": "6d47eaa8-60f0-4ab0-a9c6-fdd8cb448290",
      "metadata": {
        "id": "6d47eaa8-60f0-4ab0-a9c6-fdd8cb448290",
        "outputId": "5e10d511-d49e-4a3e-da80-678085236703"
      },
      "outputs": [
        {
          "name": "stdout",
          "output_type": "stream",
          "text": [
            "The sets are disjoint.\n"
          ]
        }
      ],
      "source": [
        "#24. Check if a set is disjoint with another set.\n",
        "set1 = {1, 2, 3}\n",
        "set2 = {4, 5, 6}\n",
        "\n",
        "if set1.isdisjoint(set2):\n",
        "    print(\"The sets are disjoint.\")\n",
        "else:\n",
        "    print(\"The sets are not disjoint.\")"
      ]
    },
    {
      "cell_type": "code",
      "execution_count": null,
      "id": "99d129a3-ed41-438f-a615-37bba84229c4",
      "metadata": {
        "id": "99d129a3-ed41-438f-a615-37bba84229c4",
        "outputId": "5433efbe-230b-4cf8-b4bd-8b058665ae33"
      },
      "outputs": [
        {
          "data": {
            "text/plain": [
              "{0, 1, 4, 9, 16}"
            ]
          },
          "execution_count": 4,
          "metadata": {},
          "output_type": "execute_result"
        }
      ],
      "source": [
        "#25. Create a set of squares of numbers from 1 to 5.\n",
        "\n",
        "s1 = {i**2 for i in range(5)}\n",
        "s1"
      ]
    },
    {
      "cell_type": "code",
      "execution_count": null,
      "id": "8970ea8c-16dc-43be-83ca-1ae4802cad2c",
      "metadata": {
        "id": "8970ea8c-16dc-43be-83ca-1ae4802cad2c",
        "outputId": "72a6e7b4-14d4-408e-e473-a29eaba7e2c6"
      },
      "outputs": [
        {
          "data": {
            "text/plain": [
              "{2, 4, 6, 8}"
            ]
          },
          "execution_count": 5,
          "metadata": {},
          "output_type": "execute_result"
        }
      ],
      "source": [
        "#26. Filter out all even numbers from a set.\n",
        "\n",
        "s1 = {1,2,3,4,5,6,7,8,9}\n",
        "\n",
        "even_set = {i for i in s1 if i %2 ==0}\n",
        "even_set"
      ]
    },
    {
      "cell_type": "code",
      "execution_count": null,
      "id": "ad7a88ab-564b-4e48-96df-152816175395",
      "metadata": {
        "id": "ad7a88ab-564b-4e48-96df-152816175395",
        "outputId": "625c05eb-72a2-4882-8338-accc423a67c3"
      },
      "outputs": [
        {
          "data": {
            "text/plain": [
              "{2, 4, 6, 8, 10, 12, 14, 16, 18}"
            ]
          },
          "execution_count": 8,
          "metadata": {},
          "output_type": "execute_result"
        }
      ],
      "source": [
        "#27. Multiply all elements in a set by 2.\n",
        "s1 = {1,2,3,4,5,6,7,8,9}\n",
        "\n",
        "s2 = {i*2 for i in s1}\n",
        "s2"
      ]
    },
    {
      "cell_type": "code",
      "execution_count": null,
      "id": "54a34965-8746-4b91-9096-fbdfb9310e79",
      "metadata": {
        "id": "54a34965-8746-4b91-9096-fbdfb9310e79",
        "outputId": "cbb64070-2d50-4b69-d0a4-8b1ad61791ea"
      },
      "outputs": [
        {
          "name": "stdout",
          "output_type": "stream",
          "text": [
            "{65, 67, 39, 12, 54}\n"
          ]
        }
      ],
      "source": [
        "#28. Create a set of random numbers.\n",
        "\n",
        "import random\n",
        "\n",
        "# Generate 5 random numbers between 1 and 100\n",
        "random_numbers = set(random.randint(1, 100) for _ in range(5))\n",
        "\n",
        "# Print the random numbers\n",
        "print(random_numbers)"
      ]
    },
    {
      "cell_type": "code",
      "execution_count": null,
      "id": "79ff4199-d06a-4e85-918e-f99eeb3efb4e",
      "metadata": {
        "id": "79ff4199-d06a-4e85-918e-f99eeb3efb4e",
        "outputId": "64976635-83c8-4672-96e7-1a755ab9e3c9"
      },
      "outputs": [
        {
          "name": "stdout",
          "output_type": "stream",
          "text": [
            "The set is not empty.\n"
          ]
        }
      ],
      "source": [
        "#29. Check if a set is empty.\n",
        "set = {1,}\n",
        "\n",
        "if len(set) == 0:\n",
        "    print(\"The set is empty.\")\n",
        "else:\n",
        "    print(\"The set is not empty.\")"
      ]
    },
    {
      "cell_type": "code",
      "execution_count": null,
      "id": "3a0f6712-d697-409d-8476-ef03af9165a4",
      "metadata": {
        "id": "3a0f6712-d697-409d-8476-ef03af9165a4",
        "outputId": "302ed8b2-dbad-4aee-99f6-c2e963233020"
      },
      "outputs": [
        {
          "name": "stdout",
          "output_type": "stream",
          "text": [
            "frozenset({frozenset({1, 2, 3}), frozenset({'c', 'a', 'b'})})\n"
          ]
        }
      ],
      "source": [
        "#30. Create a nested set (hint: use frozenset).\n",
        "\n",
        "\n",
        "numbers = frozenset([1, 2, 3])\n",
        "\n",
        "letters = frozenset([\"a\", \"b\", \"c\"])\n",
        "\n",
        "nested_set = frozenset({numbers, letters})\n",
        "\n",
        "\n",
        "print(nested_set)"
      ]
    },
    {
      "cell_type": "code",
      "execution_count": null,
      "id": "288c9c01-9855-4629-bcfd-913928262c4e",
      "metadata": {
        "id": "288c9c01-9855-4629-bcfd-913928262c4e",
        "outputId": "93c9fded-263d-4895-bc93-ea352698994c"
      },
      "outputs": [
        {
          "name": "stdout",
          "output_type": "stream",
          "text": [
            "{1, 2, 4, 5}\n"
          ]
        }
      ],
      "source": [
        "#31. Remove an element from a set using the discard method.\n",
        "s1 = {1, 2, 3, 4, 5}\n",
        "\n",
        "s1.discard(3)\n",
        "\n",
        "print(s1)"
      ]
    },
    {
      "cell_type": "code",
      "execution_count": null,
      "id": "a0edfba2-6e79-4fff-a9d7-677509d6dd73",
      "metadata": {
        "id": "a0edfba2-6e79-4fff-a9d7-677509d6dd73",
        "outputId": "f5416c75-5f00-445f-db72-7e2b4bb2bc84"
      },
      "outputs": [
        {
          "name": "stdout",
          "output_type": "stream",
          "text": [
            "Two set are not equal\n"
          ]
        }
      ],
      "source": [
        "#32. Compare two sets.\n",
        "set1 = {1,2,3}\n",
        "set2 = {4,5,6}\n",
        "if set1 == set2:\n",
        "    print(\"Two set are equal\")\n",
        "else:\n",
        "    print(\"Two set are not equal\")"
      ]
    },
    {
      "cell_type": "code",
      "execution_count": null,
      "id": "b9aae3c6-d44a-47e3-8564-671a128fbd00",
      "metadata": {
        "id": "b9aae3c6-d44a-47e3-8564-671a128fbd00",
        "outputId": "eb15a15c-9044-4e1e-84b2-98b88e7bb62e"
      },
      "outputs": [
        {
          "name": "stdout",
          "output_type": "stream",
          "text": [
            "{' ', 't', 'n', 'T', 's', 'i', 'g', 'a', 'r', 'h'}\n"
          ]
        }
      ],
      "source": [
        "#33. Create a set from a string.\n",
        "string = \"This is a string\"\n",
        "\n",
        "set_of_characters = set(string)\n",
        "\n",
        "print(set_of_characters)\n"
      ]
    },
    {
      "cell_type": "code",
      "execution_count": null,
      "id": "b132df46-83b1-4a4a-a2fe-e021f7764d9b",
      "metadata": {
        "id": "b132df46-83b1-4a4a-a2fe-e021f7764d9b",
        "outputId": "23fb7580-8756-42d9-f7c6-d5305305afe8"
      },
      "outputs": [
        {
          "data": {
            "text/plain": [
              "{1, 2, 3, 4, 5, 6}"
            ]
          },
          "execution_count": 2,
          "metadata": {},
          "output_type": "execute_result"
        }
      ],
      "source": [
        "#34. Convert a set of strings to a set of integers.\n",
        "\n",
        "s1 = {'1','2','3','4','5','6'}\n",
        "\n",
        "s2 = set(int(i) for i in s1)\n",
        "s2"
      ]
    },
    {
      "cell_type": "code",
      "execution_count": null,
      "id": "44c3e6d0-b098-4c75-b6a7-d0c7517d3193",
      "metadata": {
        "id": "44c3e6d0-b098-4c75-b6a7-d0c7517d3193",
        "outputId": "60e133b1-f01b-4fb1-cc31-19144be9e32c"
      },
      "outputs": [
        {
          "data": {
            "text/plain": [
              "{'1', '2', '3', '4', '5', '6'}"
            ]
          },
          "execution_count": 3,
          "metadata": {},
          "output_type": "execute_result"
        }
      ],
      "source": [
        "#35. Convert a set of integers to a set of strings.\n",
        "\n",
        "s1 = {1, 2, 3, 4, 5, 6}\n",
        "\n",
        "s2 = set(str(i) for i in s1)\n",
        "s2"
      ]
    },
    {
      "cell_type": "code",
      "execution_count": null,
      "id": "2e8da36e-b515-44b7-943c-fd70f747d18e",
      "metadata": {
        "id": "2e8da36e-b515-44b7-943c-fd70f747d18e",
        "outputId": "ae1ab486-be4a-4c25-fe70-372bebc0260b"
      },
      "outputs": [
        {
          "data": {
            "text/plain": [
              "{1, 2, 3, 5, 6, 45}"
            ]
          },
          "execution_count": 4,
          "metadata": {},
          "output_type": "execute_result"
        }
      ],
      "source": [
        "#36. Create a set from a tuple.\n",
        "\n",
        "tu = (1,1,1,2,3,45,5,6)\n",
        "\n",
        "set1 = set(tu)\n",
        "\n",
        "set1"
      ]
    },
    {
      "cell_type": "code",
      "execution_count": null,
      "id": "0951ebb9-680e-4039-a281-30a0a9c76644",
      "metadata": {
        "id": "0951ebb9-680e-4039-a281-30a0a9c76644",
        "outputId": "1ed6683e-7777-4440-951f-e1cd9bf75d02"
      },
      "outputs": [
        {
          "data": {
            "text/plain": [
              "(1, 2, 3, 5, 6, 45)"
            ]
          },
          "execution_count": 5,
          "metadata": {},
          "output_type": "execute_result"
        }
      ],
      "source": [
        "#37. Convert a set to a tuple.\n",
        "set1 = {1, 2, 3, 5, 6, 45}\n",
        "\n",
        "tup = tuple(set1)\n",
        "\n",
        "tup\n"
      ]
    },
    {
      "cell_type": "code",
      "execution_count": null,
      "id": "923a5505-6b05-4843-bfbe-cbec103fef04",
      "metadata": {
        "id": "923a5505-6b05-4843-bfbe-cbec103fef04",
        "outputId": "210ae0e3-28de-409b-ea02-8584d0f4e3d6"
      },
      "outputs": [
        {
          "data": {
            "text/plain": [
              "45"
            ]
          },
          "execution_count": 6,
          "metadata": {},
          "output_type": "execute_result"
        }
      ],
      "source": [
        "#38. Find the maximum value in a set.\n",
        "set1 = {1, 2, 3, 5, 6, 45}\n",
        "\n",
        "max(set1)\n"
      ]
    },
    {
      "cell_type": "code",
      "execution_count": null,
      "id": "848192a1-d9fa-4a5f-9d67-4b3e7bed4784",
      "metadata": {
        "id": "848192a1-d9fa-4a5f-9d67-4b3e7bed4784",
        "outputId": "4c5721e0-8c58-4a0a-ece1-8634317c41fe"
      },
      "outputs": [
        {
          "data": {
            "text/plain": [
              "1"
            ]
          },
          "execution_count": 7,
          "metadata": {},
          "output_type": "execute_result"
        }
      ],
      "source": [
        "#39. Find the minimum value in a set.\n",
        "set1 = {1, 2, 3, 5, 6, 45}\n",
        "\n",
        "min(set1)"
      ]
    },
    {
      "cell_type": "code",
      "execution_count": null,
      "id": "dab3c822-d9e7-4c1c-9f79-40ef905d5cd8",
      "metadata": {
        "id": "dab3c822-d9e7-4c1c-9f79-40ef905d5cd8",
        "outputId": "a34d2bb5-de43-4fea-e8a6-d240d3321d61"
      },
      "outputs": [
        {
          "name": "stdin",
          "output_type": "stream",
          "text": [
            "Enter value by comma seperated  :  hello\n"
          ]
        },
        {
          "data": {
            "text/plain": [
              "{'e', 'h', 'l', 'o'}"
            ]
          },
          "execution_count": 11,
          "metadata": {},
          "output_type": "execute_result"
        }
      ],
      "source": [
        "#40. Create a set from user input.\n",
        "\n",
        "s1= set(input(\"Enter value by comma seperated  : \"))\n",
        "\n",
        "s1"
      ]
    },
    {
      "cell_type": "code",
      "execution_count": null,
      "id": "fcbd613a-c301-43a7-ba3d-8456ee29eb7a",
      "metadata": {
        "id": "fcbd613a-c301-43a7-ba3d-8456ee29eb7a",
        "outputId": "f95d97ff-9ee6-49d6-8571-565c7ae3c3cf"
      },
      "outputs": [
        {
          "name": "stdout",
          "output_type": "stream",
          "text": [
            "The intersection is empty.\n"
          ]
        }
      ],
      "source": [
        "#41. Check if the intersection of two sets is empty.\n",
        "\n",
        "set1 = {1, 2, 3}\n",
        "set2 = {4, 5, 6}\n",
        "\n",
        "# Check if the intersection is empty\n",
        "if set1.isdisjoint(set2):\n",
        "    print(\"The intersection is empty.\")\n",
        "else:\n",
        "    print(\"The intersection is not empty.\")"
      ]
    },
    {
      "cell_type": "code",
      "execution_count": null,
      "id": "e165be48-2ae4-46da-87b6-15241bebb219",
      "metadata": {
        "id": "e165be48-2ae4-46da-87b6-15241bebb219",
        "outputId": "cb6bd421-9d19-4473-8bad-b4a27f973b45"
      },
      "outputs": [
        {
          "data": {
            "text/plain": [
              "{0, 1, 2, 3}"
            ]
          },
          "execution_count": 14,
          "metadata": {},
          "output_type": "execute_result"
        }
      ],
      "source": [
        "#42. Create a set of the first 5 Fibonacci numbers.\n",
        "fibonacci_set = set()\n",
        "n = 5\n",
        "a, b = 0, 1\n",
        "for _ in range(n):\n",
        "    fibonacci_set.add(a)\n",
        "    a, b = b, a + b\n",
        "\n",
        "fibonacci_set"
      ]
    },
    {
      "cell_type": "code",
      "execution_count": null,
      "id": "c641619d-f676-4f69-b2d8-07502feadc4b",
      "metadata": {
        "id": "c641619d-f676-4f69-b2d8-07502feadc4b",
        "outputId": "548c1b60-e145-4dc5-adaa-85e516cac121"
      },
      "outputs": [
        {
          "data": {
            "text/plain": [
              "{0, 3, 5, 6, 8, 9, 12}"
            ]
          },
          "execution_count": 15,
          "metadata": {},
          "output_type": "execute_result"
        }
      ],
      "source": [
        "#43. Remove duplicates from a list using sets.\n",
        "\n",
        "l1= [0,12,3,3,5,6,8,8,8,9,5]\n",
        "s1 =set(l1)\n",
        "s1"
      ]
    },
    {
      "cell_type": "code",
      "execution_count": null,
      "id": "810cf7f0-8c0d-4422-9bf4-f5bd6e3535d5",
      "metadata": {
        "id": "810cf7f0-8c0d-4422-9bf4-f5bd6e3535d5",
        "outputId": "a144faa3-263f-464c-961a-53127421894f"
      },
      "outputs": [
        {
          "name": "stdout",
          "output_type": "stream",
          "text": [
            "The sets have the same elements, regardless of count.\n"
          ]
        }
      ],
      "source": [
        "#44. Check if two sets have the same elements, regardless of their count.\n",
        "\n",
        "set1 = {1, 2, 3, 4}\n",
        "set2 = {4, 3, 2, 1}\n",
        "\n",
        "if set1 == set2:\n",
        "    print(\"The sets have the same elements, regardless of count.\")\n",
        "else:\n",
        "    print(\"The sets do not have the same elements, regardless of count.\")"
      ]
    },
    {
      "cell_type": "code",
      "execution_count": null,
      "id": "b40283e1-8a2a-484b-8910-ad9c8b6801d9",
      "metadata": {
        "id": "b40283e1-8a2a-484b-8910-ad9c8b6801d9",
        "outputId": "1ea816f7-a740-4ef4-cec5-a2ea49500fe5"
      },
      "outputs": [
        {
          "data": {
            "text/plain": [
              "{0, 1, 4, 9, 16, 25}"
            ]
          },
          "execution_count": 24,
          "metadata": {},
          "output_type": "execute_result"
        }
      ],
      "source": [
        "#45. Create a set of the first `n` powers of 2.\n",
        "\n",
        "n = 6\n",
        "set1 = {i**2 for i in range(n)}\n",
        "\n",
        "set1"
      ]
    },
    {
      "cell_type": "code",
      "execution_count": null,
      "id": "a763791b-1214-4063-b99c-b3c207230474",
      "metadata": {
        "id": "a763791b-1214-4063-b99c-b3c207230474",
        "outputId": "33ca57f3-1285-4dae-c5e7-c7ed4322a4a8"
      },
      "outputs": [
        {
          "name": "stdout",
          "output_type": "stream",
          "text": [
            "{1, 2}\n"
          ]
        }
      ],
      "source": [
        "#46. Find the common elements between a set and a list.\n",
        "\n",
        "set1 = {1, 2, 3}\n",
        "list1 = [1, 2, 4]\n",
        "\n",
        "print(set1.intersection(list1))"
      ]
    },
    {
      "cell_type": "code",
      "execution_count": null,
      "id": "b6393c7d-4ce9-4f71-b752-b5ba42e7f903",
      "metadata": {
        "id": "b6393c7d-4ce9-4f71-b752-b5ba42e7f903",
        "outputId": "75da6c9e-575f-4d5e-d13d-d607ec31c1a8"
      },
      "outputs": [
        {
          "data": {
            "text/plain": [
              "{0, 1, 3, 6, 10, 15, 21, 28, 36, 45}"
            ]
          },
          "execution_count": 26,
          "metadata": {},
          "output_type": "execute_result"
        }
      ],
      "source": [
        "#47. Create a set of the first `n` triangular numbers.\n",
        "n  = 10\n",
        "\n",
        "triangular_numbers = set()\n",
        "\n",
        "for i in range(n):\n",
        "    triangular_numbers.add(i * (i + 1) // 2)\n",
        "\n",
        "triangular_numbers"
      ]
    },
    {
      "cell_type": "code",
      "execution_count": null,
      "id": "8633b2fa-f0c2-4674-9e5b-bf5fcc87cf81",
      "metadata": {
        "id": "8633b2fa-f0c2-4674-9e5b-bf5fcc87cf81",
        "outputId": "d861a7a4-6bc3-4aa7-8e29-e90f5fcbb515"
      },
      "outputs": [
        {
          "name": "stdout",
          "output_type": "stream",
          "text": [
            "True\n"
          ]
        }
      ],
      "source": [
        "#48. Check if a set contains another set as a subset.\n",
        "\n",
        "set1 = {1, 2, 3}\n",
        "set2 = {1, 2, 3, 4, 5}\n",
        "\n",
        "print(set1.issubset(set2))"
      ]
    },
    {
      "cell_type": "code",
      "execution_count": null,
      "id": "0c1bd6f4-b017-4f10-a258-4826c672c1e8",
      "metadata": {
        "id": "0c1bd6f4-b017-4f10-a258-4826c672c1e8",
        "outputId": "726c97d6-aaae-467e-c1ef-597beb11529f"
      },
      "outputs": [
        {
          "data": {
            "text/plain": [
              "{0, 1}"
            ]
          },
          "execution_count": 33,
          "metadata": {},
          "output_type": "execute_result"
        }
      ],
      "source": [
        "#49. Create a set of alternating 1s and 0s of length `n`.\n",
        "\n",
        "n = 10\n",
        "\n",
        "s1 = {1 if i%2 == 0 else  0 for i in range(n)}\n",
        "s1\n",
        "# set conyain unique value"
      ]
    },
    {
      "cell_type": "code",
      "execution_count": null,
      "id": "3d2efd82-4d25-4ceb-aea3-05b7c8de544b",
      "metadata": {
        "id": "3d2efd82-4d25-4ceb-aea3-05b7c8de544b",
        "outputId": "a2d85079-e464-4db1-abd8-cdc24a5ed70b"
      },
      "outputs": [
        {
          "name": "stdout",
          "output_type": "stream",
          "text": [
            "{1, 2, 5, 6, 7, 8, 9, 46}\n"
          ]
        }
      ],
      "source": [
        "#50. Merge multiple sets into one.\n",
        "s1 = {1,5,6,2,8,9}\n",
        "s2 = {8,9,5,7,2,46,2}\n",
        "\n",
        "merged_set = s1 | s2\n",
        "\n",
        "print(merged_set)\n"
      ]
    },
    {
      "cell_type": "code",
      "execution_count": null,
      "id": "dc026f82-6793-4d96-908a-b931fe39c5eb",
      "metadata": {
        "id": "dc026f82-6793-4d96-908a-b931fe39c5eb"
      },
      "outputs": [],
      "source": []
    }
  ],
  "metadata": {
    "kernelspec": {
      "display_name": "Python 3 (ipykernel)",
      "language": "python",
      "name": "python3"
    },
    "language_info": {
      "codemirror_mode": {
        "name": "ipython",
        "version": 3
      },
      "file_extension": ".py",
      "mimetype": "text/x-python",
      "name": "python",
      "nbconvert_exporter": "python",
      "pygments_lexer": "ipython3",
      "version": "3.10.8"
    },
    "colab": {
      "provenance": []
    }
  },
  "nbformat": 4,
  "nbformat_minor": 5
}