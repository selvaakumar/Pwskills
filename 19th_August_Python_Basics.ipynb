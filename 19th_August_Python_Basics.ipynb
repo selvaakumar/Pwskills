{
  "nbformat": 4,
  "nbformat_minor": 0,
  "metadata": {
    "colab": {
      "provenance": []
    },
    "kernelspec": {
      "name": "python3",
      "display_name": "Python 3"
    },
    "language_info": {
      "name": "python"
    }
  },
  "cells": [
    {
      "cell_type": "markdown",
      "source": [
        "**TOPIC: Python Basics Variable**"
      ],
      "metadata": {
        "id": "EZgziaZrDv7l"
      }
    },
    {
      "cell_type": "markdown",
      "source": [
        "1. Declare two variables, `x` and `y`, and assign them integer values. Swap thevalues of these variables without using any temporary variable."
      ],
      "metadata": {
        "id": "w17pWQjID-I0"
      }
    },
    {
      "cell_type": "code",
      "source": [
        "x =  5\n",
        "y =  3\n",
        "x,y=y,x\n",
        "print('X is ',x)\n",
        "print('Y is ',y)"
      ],
      "metadata": {
        "colab": {
          "base_uri": "https://localhost:8080/"
        },
        "id": "eqafS84SEDuF",
        "outputId": "fe5139bb-075b-4e37-f93c-bb4e48db3e4e"
      },
      "execution_count": 1,
      "outputs": [
        {
          "output_type": "stream",
          "name": "stdout",
          "text": [
            "X is  3\n",
            "Y is  5\n"
          ]
        }
      ]
    },
    {
      "cell_type": "markdown",
      "source": [
        "Explanisation:\n",
        "Assign X value to y and Y value to x"
      ],
      "metadata": {
        "id": "ssPvsH1zEqm7"
      }
    },
    {
      "cell_type": "markdown",
      "source": [
        "2. Create a program that calculates the area of a rectangle. Take the length and width as inputs from the user and store them in variables. Calculate and\n",
        "display the area."
      ],
      "metadata": {
        "id": "exko8PBREwst"
      }
    },
    {
      "cell_type": "code",
      "source": [
        "length = int(input(\"Enter length of tringle  \"))\n",
        "width = int(input(\"Enter width of tringle  \"))\n",
        "area = 0.5* length* width\n",
        "print(\"Area of triangle is \",area)"
      ],
      "metadata": {
        "colab": {
          "base_uri": "https://localhost:8080/"
        },
        "id": "rbFeFDLdE0ZO",
        "outputId": "2aacbdec-d9b3-4c2e-ba34-5d3d9d1122b6"
      },
      "execution_count": 2,
      "outputs": [
        {
          "output_type": "stream",
          "name": "stdout",
          "text": [
            "Enter length of tringle  20\n",
            "Enter width of tringle  20\n",
            "Area of triangle is  200.0\n"
          ]
        }
      ]
    },
    {
      "cell_type": "markdown",
      "source": [
        "**Explanisation: ** Getting ength and width as inputs from the user and store them in variables and calculating area of triangle and store it in variable area."
      ],
      "metadata": {
        "id": "bzlDcj_5GNbE"
      }
    },
    {
      "cell_type": "markdown",
      "source": [
        "3. Write a Python program that converts temperatures from Celsius to\n",
        "Fahrenheit. Take the temperature in Celsius as input, store it in a variable,\n",
        "convert it to Fahrenheit, and display the result."
      ],
      "metadata": {
        "id": "r2hQEJvVGhyx"
      }
    },
    {
      "cell_type": "code",
      "source": [
        "celcius = int(input(\"Enter Temperature in celcius \"))\n",
        "fahren = (celcius * 9/5)+32\n",
        "print(celcius,\"C is equal to \",fahren,\" Faherenhit\")"
      ],
      "metadata": {
        "colab": {
          "base_uri": "https://localhost:8080/"
        },
        "id": "_1Md_i8mGmHM",
        "outputId": "ac4d83cc-2446-44aa-ed90-cdc10ddd7521"
      },
      "execution_count": 3,
      "outputs": [
        {
          "output_type": "stream",
          "name": "stdout",
          "text": [
            "Enter Temperature in celcius 10\n",
            "10 C is equal to  50.0  Faherenhit\n"
          ]
        }
      ]
    },
    {
      "cell_type": "markdown",
      "source": [
        "Explnisation: Getting value from user as Celsius and converting to Fahrenheit and Disaplaying"
      ],
      "metadata": {
        "id": "21pwQ_awIZiP"
      }
    },
    {
      "cell_type": "markdown",
      "source": [
        "**TOPIC: String Based Questions**"
      ],
      "metadata": {
        "id": "YWsevCggImqd"
      }
    },
    {
      "cell_type": "markdown",
      "source": [
        "1. Write a Python program that takes a string as input and prints the length of the string."
      ],
      "metadata": {
        "id": "YGqcTnJ2Iqnb"
      }
    },
    {
      "cell_type": "code",
      "source": [
        "name = input(\"Enter name \")\n",
        "\n",
        "print(\"Lenght of name is \",len(name))"
      ],
      "metadata": {
        "colab": {
          "base_uri": "https://localhost:8080/"
        },
        "id": "lngPNfNHIuNa",
        "outputId": "1ca1d756-69f4-4dee-97ef-2a993e46808d"
      },
      "execution_count": 4,
      "outputs": [
        {
          "output_type": "stream",
          "name": "stdout",
          "text": [
            "Enter name Tony\n",
            "Lenght of name is  4\n"
          ]
        }
      ]
    },
    {
      "cell_type": "markdown",
      "source": [
        "Explanisation: Getting name from user as input and displayng lenth of the name."
      ],
      "metadata": {
        "id": "G_qc5rmNJH-b"
      }
    },
    {
      "cell_type": "markdown",
      "source": [
        "2. Create a program that takes a sentence from the user and counts the number of vowels (a, e, i, o, u) in the string."
      ],
      "metadata": {
        "id": "Y-QW65RpJRMB"
      }
    },
    {
      "cell_type": "code",
      "source": [
        "inputs = input(\"Enter sentence to volwles \")\n",
        "vowels = \"aeiouAEIOU\"\n",
        "\n",
        "count = sum(inputs.count(vowel) for vowel in vowels)\n",
        "print(\"No of vowles in value entered \", count)"
      ],
      "metadata": {
        "colab": {
          "base_uri": "https://localhost:8080/"
        },
        "id": "vG828Rd5JU2D",
        "outputId": "566a6f4d-ae98-4e54-822e-3db5dd8c7086"
      },
      "execution_count": 7,
      "outputs": [
        {
          "output_type": "stream",
          "name": "stdout",
          "text": [
            "Enter sentence to volwles aeiouAEIOU     aeiouAEIOU\n",
            "No of vowles in value entered  20\n"
          ]
        }
      ]
    },
    {
      "cell_type": "markdown",
      "source": [
        "Explanisation: Getting value from user and count vowles in it\n"
      ],
      "metadata": {
        "id": "AQsUsf9VLW0x"
      }
    },
    {
      "cell_type": "markdown",
      "source": [
        "3. Given a string, reverse the order of characters using string slicing and print the reversed string."
      ],
      "metadata": {
        "id": "bX6h6EnZLthG"
      }
    },
    {
      "cell_type": "code",
      "source": [
        "inputs = \"RANDOM\"\n",
        "output  = inputs[::-1]\n",
        "\n",
        "print(output)"
      ],
      "metadata": {
        "colab": {
          "base_uri": "https://localhost:8080/"
        },
        "id": "NtUUSNrwLzgA",
        "outputId": "777ea880-e1ad-49df-bb69-9fdd7926cf10"
      },
      "execution_count": 11,
      "outputs": [
        {
          "output_type": "stream",
          "name": "stdout",
          "text": [
            "MODNAR\n"
          ]
        }
      ]
    },
    {
      "cell_type": "markdown",
      "source": [
        "Explanisation : Reversing the order of characters using string slicing"
      ],
      "metadata": {
        "id": "MR9O_F3qNRXQ"
      }
    },
    {
      "cell_type": "markdown",
      "source": [
        "4. Write a program that takes a string as input and checks if it is a palindrome\n",
        "(reads the same forwards and backwards)."
      ],
      "metadata": {
        "id": "8Rfq8eZHNmPV"
      }
    },
    {
      "cell_type": "code",
      "source": [
        "palindrome = input(\"Enter Value...\")\n",
        "reversed = palindrome[::-1]\n",
        "if(palindrome == reversed):\n",
        "  print(\"Entered value is palindrome.\")\n",
        "else:\n",
        "  print(\"Entered value is not palindrome\")\n"
      ],
      "metadata": {
        "colab": {
          "base_uri": "https://localhost:8080/"
        },
        "id": "ej8iaodFOFmi",
        "outputId": "c85404db-9fe6-4c35-8a63-447583e72556"
      },
      "execution_count": 12,
      "outputs": [
        {
          "output_type": "stream",
          "name": "stdout",
          "text": [
            "Enter Value...madam\n",
            "Entered value is palindrome.\n"
          ]
        }
      ]
    },
    {
      "cell_type": "markdown",
      "source": [
        "Explanisation : Getting value from user and checking the value is pallindrome or not."
      ],
      "metadata": {
        "id": "7dEiPINdQF-l"
      }
    },
    {
      "cell_type": "markdown",
      "source": [
        "5. Create a program that takes a string as input and removes all the spaces from\n",
        "it. Print the modified string without spaces."
      ],
      "metadata": {
        "id": "2W9Z90bWQsKo"
      }
    },
    {
      "cell_type": "code",
      "source": [
        "us = input(\"Enter the value...  \")\n",
        "rm = us.replace(' ','')\n",
        "print(\"Value without space  \",rm)"
      ],
      "metadata": {
        "colab": {
          "base_uri": "https://localhost:8080/"
        },
        "id": "LWmHChzpQvCa",
        "outputId": "e6fc745e-c537-4f83-fbdd-2a625749904a"
      },
      "execution_count": 13,
      "outputs": [
        {
          "output_type": "stream",
          "name": "stdout",
          "text": [
            "Enter the value...  H e L L o\n",
            "Value without space   HeLLo\n"
          ]
        }
      ]
    },
    {
      "cell_type": "markdown",
      "source": [
        "explanation : Getting value from user and replacing space by empty and storing in variable and Disaplaying without space."
      ],
      "metadata": {
        "id": "W-vMuHFyR7HX"
      }
    }
  ]
}